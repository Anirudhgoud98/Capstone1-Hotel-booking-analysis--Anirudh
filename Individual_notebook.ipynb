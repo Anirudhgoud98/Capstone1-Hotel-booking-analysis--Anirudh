{
  "nbformat": 4,
  "nbformat_minor": 0,
  "metadata": {
    "kernelspec": {
      "display_name": "Python 3",
      "language": "python",
      "name": "python3"
    },
    "language_info": {
      "codemirror_mode": {
        "name": "ipython",
        "version": 3
      },
      "file_extension": ".py",
      "mimetype": "text/x-python",
      "name": "python",
      "nbconvert_exporter": "python",
      "pygments_lexer": "ipython3",
      "version": "3.6.6"
    },
    "colab": {
      "provenance": [],
      "collapsed_sections": [],
      "include_colab_link": true
    }
  },
  "cells": [
    {
      "cell_type": "markdown",
      "metadata": {
        "id": "view-in-github",
        "colab_type": "text"
      },
      "source": [
        "<a href=\"https://colab.research.google.com/github/Anirudhgoud98/Capstone1-Hotel-booking-analysis--Anirudh/blob/main/Individual_notebook.ipynb\" target=\"_parent\"><img src=\"https://colab.research.google.com/assets/colab-badge.svg\" alt=\"Open In Colab\"/></a>"
      ]
    },
    {
      "cell_type": "markdown",
      "metadata": {
        "id": "Y06xIdG26kRF"
      },
      "source": [
        "## <b> Have you ever wondered when the best time of year to book a hotel room is? Or the optimal length of stay in order to get the best daily rate? What if you wanted to predict whether or not a hotel was likely to receive a disproportionately high number of special requests? This hotel booking dataset can help you explore those questions!\n",
        "\n",
        "## <b>This data set contains booking information for a city hotel and a resort hotel, and includes information such as when the booking was made, length of stay, the number of adults, children, and/or babies, and the number of available parking spaces, among other things. All personally identifying information has been removed from the data. </b>\n",
        "\n",
        "## <b> Explore and analyze the data to discover important factors that govern the bookings. </b>"
      ]
    },
    {
      "cell_type": "code",
      "metadata": {
        "id": "dByMsuzT8Tnw"
      },
      "source": [
        "import numpy as np\n",
        "import pandas as pd\n",
        "import seaborn as sns\n",
        "import matplotlib.pyplot as plt\n",
        "%matplotlib inline"
      ],
      "execution_count": null,
      "outputs": []
    },
    {
      "cell_type": "code",
      "source": [
        "#Mounting drive\n",
        "from google.colab import drive\n",
        "drive.mount('/content/drive')"
      ],
      "metadata": {
        "id": "yF5sfLpuIufJ",
        "colab": {
          "base_uri": "https://localhost:8080/"
        },
        "outputId": "c7228109-44df-4b25-c506-1547185d1672"
      },
      "execution_count": null,
      "outputs": [
        {
          "output_type": "stream",
          "name": "stdout",
          "text": [
            "Mounted at /content/drive\n"
          ]
        }
      ]
    },
    {
      "cell_type": "code",
      "source": [
        "work_dir_path='/content/drive/MyDrive/Colab Notebooks/Team Capstone project-1/'"
      ],
      "metadata": {
        "id": "yQQtNxeOHmwg"
      },
      "execution_count": null,
      "outputs": []
    },
    {
      "cell_type": "code",
      "source": [
        "#Read the dataset\n",
        "df=pd.read_csv(work_dir_path +'Hotel Bookings.csv')"
      ],
      "metadata": {
        "id": "i7Ob4IdGHm7_"
      },
      "execution_count": null,
      "outputs": []
    },
    {
      "cell_type": "code",
      "source": [
        "df.head()"
      ],
      "metadata": {
        "id": "iRdwDobjNHXx",
        "colab": {
          "base_uri": "https://localhost:8080/",
          "height": 386
        },
        "outputId": "885427e4-a767-4f13-ff05-b09417d3113f"
      },
      "execution_count": null,
      "outputs": [
        {
          "output_type": "execute_result",
          "data": {
            "text/plain": [
              "          hotel  is_canceled  lead_time  arrival_date_year arrival_date_month  \\\n",
              "0  Resort Hotel            0        342               2015               July   \n",
              "1  Resort Hotel            0        737               2015               July   \n",
              "2  Resort Hotel            0          7               2015               July   \n",
              "3  Resort Hotel            0         13               2015               July   \n",
              "4  Resort Hotel            0         14               2015               July   \n",
              "\n",
              "   arrival_date_week_number  arrival_date_day_of_month  \\\n",
              "0                        27                          1   \n",
              "1                        27                          1   \n",
              "2                        27                          1   \n",
              "3                        27                          1   \n",
              "4                        27                          1   \n",
              "\n",
              "   stays_in_weekend_nights  stays_in_week_nights  adults  ...  deposit_type  \\\n",
              "0                        0                     0       2  ...    No Deposit   \n",
              "1                        0                     0       2  ...    No Deposit   \n",
              "2                        0                     1       1  ...    No Deposit   \n",
              "3                        0                     1       1  ...    No Deposit   \n",
              "4                        0                     2       2  ...    No Deposit   \n",
              "\n",
              "   agent company days_in_waiting_list customer_type   adr  \\\n",
              "0    NaN     NaN                    0     Transient   0.0   \n",
              "1    NaN     NaN                    0     Transient   0.0   \n",
              "2    NaN     NaN                    0     Transient  75.0   \n",
              "3  304.0     NaN                    0     Transient  75.0   \n",
              "4  240.0     NaN                    0     Transient  98.0   \n",
              "\n",
              "   required_car_parking_spaces  total_of_special_requests  reservation_status  \\\n",
              "0                            0                          0           Check-Out   \n",
              "1                            0                          0           Check-Out   \n",
              "2                            0                          0           Check-Out   \n",
              "3                            0                          0           Check-Out   \n",
              "4                            0                          1           Check-Out   \n",
              "\n",
              "  reservation_status_date  \n",
              "0              2015-07-01  \n",
              "1              2015-07-01  \n",
              "2              2015-07-02  \n",
              "3              2015-07-02  \n",
              "4              2015-07-03  \n",
              "\n",
              "[5 rows x 32 columns]"
            ],
            "text/html": [
              "\n",
              "  <div id=\"df-85eecc7e-79fc-4f29-8bed-d92d5a8ab5ae\">\n",
              "    <div class=\"colab-df-container\">\n",
              "      <div>\n",
              "<style scoped>\n",
              "    .dataframe tbody tr th:only-of-type {\n",
              "        vertical-align: middle;\n",
              "    }\n",
              "\n",
              "    .dataframe tbody tr th {\n",
              "        vertical-align: top;\n",
              "    }\n",
              "\n",
              "    .dataframe thead th {\n",
              "        text-align: right;\n",
              "    }\n",
              "</style>\n",
              "<table border=\"1\" class=\"dataframe\">\n",
              "  <thead>\n",
              "    <tr style=\"text-align: right;\">\n",
              "      <th></th>\n",
              "      <th>hotel</th>\n",
              "      <th>is_canceled</th>\n",
              "      <th>lead_time</th>\n",
              "      <th>arrival_date_year</th>\n",
              "      <th>arrival_date_month</th>\n",
              "      <th>arrival_date_week_number</th>\n",
              "      <th>arrival_date_day_of_month</th>\n",
              "      <th>stays_in_weekend_nights</th>\n",
              "      <th>stays_in_week_nights</th>\n",
              "      <th>adults</th>\n",
              "      <th>...</th>\n",
              "      <th>deposit_type</th>\n",
              "      <th>agent</th>\n",
              "      <th>company</th>\n",
              "      <th>days_in_waiting_list</th>\n",
              "      <th>customer_type</th>\n",
              "      <th>adr</th>\n",
              "      <th>required_car_parking_spaces</th>\n",
              "      <th>total_of_special_requests</th>\n",
              "      <th>reservation_status</th>\n",
              "      <th>reservation_status_date</th>\n",
              "    </tr>\n",
              "  </thead>\n",
              "  <tbody>\n",
              "    <tr>\n",
              "      <th>0</th>\n",
              "      <td>Resort Hotel</td>\n",
              "      <td>0</td>\n",
              "      <td>342</td>\n",
              "      <td>2015</td>\n",
              "      <td>July</td>\n",
              "      <td>27</td>\n",
              "      <td>1</td>\n",
              "      <td>0</td>\n",
              "      <td>0</td>\n",
              "      <td>2</td>\n",
              "      <td>...</td>\n",
              "      <td>No Deposit</td>\n",
              "      <td>NaN</td>\n",
              "      <td>NaN</td>\n",
              "      <td>0</td>\n",
              "      <td>Transient</td>\n",
              "      <td>0.0</td>\n",
              "      <td>0</td>\n",
              "      <td>0</td>\n",
              "      <td>Check-Out</td>\n",
              "      <td>2015-07-01</td>\n",
              "    </tr>\n",
              "    <tr>\n",
              "      <th>1</th>\n",
              "      <td>Resort Hotel</td>\n",
              "      <td>0</td>\n",
              "      <td>737</td>\n",
              "      <td>2015</td>\n",
              "      <td>July</td>\n",
              "      <td>27</td>\n",
              "      <td>1</td>\n",
              "      <td>0</td>\n",
              "      <td>0</td>\n",
              "      <td>2</td>\n",
              "      <td>...</td>\n",
              "      <td>No Deposit</td>\n",
              "      <td>NaN</td>\n",
              "      <td>NaN</td>\n",
              "      <td>0</td>\n",
              "      <td>Transient</td>\n",
              "      <td>0.0</td>\n",
              "      <td>0</td>\n",
              "      <td>0</td>\n",
              "      <td>Check-Out</td>\n",
              "      <td>2015-07-01</td>\n",
              "    </tr>\n",
              "    <tr>\n",
              "      <th>2</th>\n",
              "      <td>Resort Hotel</td>\n",
              "      <td>0</td>\n",
              "      <td>7</td>\n",
              "      <td>2015</td>\n",
              "      <td>July</td>\n",
              "      <td>27</td>\n",
              "      <td>1</td>\n",
              "      <td>0</td>\n",
              "      <td>1</td>\n",
              "      <td>1</td>\n",
              "      <td>...</td>\n",
              "      <td>No Deposit</td>\n",
              "      <td>NaN</td>\n",
              "      <td>NaN</td>\n",
              "      <td>0</td>\n",
              "      <td>Transient</td>\n",
              "      <td>75.0</td>\n",
              "      <td>0</td>\n",
              "      <td>0</td>\n",
              "      <td>Check-Out</td>\n",
              "      <td>2015-07-02</td>\n",
              "    </tr>\n",
              "    <tr>\n",
              "      <th>3</th>\n",
              "      <td>Resort Hotel</td>\n",
              "      <td>0</td>\n",
              "      <td>13</td>\n",
              "      <td>2015</td>\n",
              "      <td>July</td>\n",
              "      <td>27</td>\n",
              "      <td>1</td>\n",
              "      <td>0</td>\n",
              "      <td>1</td>\n",
              "      <td>1</td>\n",
              "      <td>...</td>\n",
              "      <td>No Deposit</td>\n",
              "      <td>304.0</td>\n",
              "      <td>NaN</td>\n",
              "      <td>0</td>\n",
              "      <td>Transient</td>\n",
              "      <td>75.0</td>\n",
              "      <td>0</td>\n",
              "      <td>0</td>\n",
              "      <td>Check-Out</td>\n",
              "      <td>2015-07-02</td>\n",
              "    </tr>\n",
              "    <tr>\n",
              "      <th>4</th>\n",
              "      <td>Resort Hotel</td>\n",
              "      <td>0</td>\n",
              "      <td>14</td>\n",
              "      <td>2015</td>\n",
              "      <td>July</td>\n",
              "      <td>27</td>\n",
              "      <td>1</td>\n",
              "      <td>0</td>\n",
              "      <td>2</td>\n",
              "      <td>2</td>\n",
              "      <td>...</td>\n",
              "      <td>No Deposit</td>\n",
              "      <td>240.0</td>\n",
              "      <td>NaN</td>\n",
              "      <td>0</td>\n",
              "      <td>Transient</td>\n",
              "      <td>98.0</td>\n",
              "      <td>0</td>\n",
              "      <td>1</td>\n",
              "      <td>Check-Out</td>\n",
              "      <td>2015-07-03</td>\n",
              "    </tr>\n",
              "  </tbody>\n",
              "</table>\n",
              "<p>5 rows × 32 columns</p>\n",
              "</div>\n",
              "      <button class=\"colab-df-convert\" onclick=\"convertToInteractive('df-85eecc7e-79fc-4f29-8bed-d92d5a8ab5ae')\"\n",
              "              title=\"Convert this dataframe to an interactive table.\"\n",
              "              style=\"display:none;\">\n",
              "        \n",
              "  <svg xmlns=\"http://www.w3.org/2000/svg\" height=\"24px\"viewBox=\"0 0 24 24\"\n",
              "       width=\"24px\">\n",
              "    <path d=\"M0 0h24v24H0V0z\" fill=\"none\"/>\n",
              "    <path d=\"M18.56 5.44l.94 2.06.94-2.06 2.06-.94-2.06-.94-.94-2.06-.94 2.06-2.06.94zm-11 1L8.5 8.5l.94-2.06 2.06-.94-2.06-.94L8.5 2.5l-.94 2.06-2.06.94zm10 10l.94 2.06.94-2.06 2.06-.94-2.06-.94-.94-2.06-.94 2.06-2.06.94z\"/><path d=\"M17.41 7.96l-1.37-1.37c-.4-.4-.92-.59-1.43-.59-.52 0-1.04.2-1.43.59L10.3 9.45l-7.72 7.72c-.78.78-.78 2.05 0 2.83L4 21.41c.39.39.9.59 1.41.59.51 0 1.02-.2 1.41-.59l7.78-7.78 2.81-2.81c.8-.78.8-2.07 0-2.86zM5.41 20L4 18.59l7.72-7.72 1.47 1.35L5.41 20z\"/>\n",
              "  </svg>\n",
              "      </button>\n",
              "      \n",
              "  <style>\n",
              "    .colab-df-container {\n",
              "      display:flex;\n",
              "      flex-wrap:wrap;\n",
              "      gap: 12px;\n",
              "    }\n",
              "\n",
              "    .colab-df-convert {\n",
              "      background-color: #E8F0FE;\n",
              "      border: none;\n",
              "      border-radius: 50%;\n",
              "      cursor: pointer;\n",
              "      display: none;\n",
              "      fill: #1967D2;\n",
              "      height: 32px;\n",
              "      padding: 0 0 0 0;\n",
              "      width: 32px;\n",
              "    }\n",
              "\n",
              "    .colab-df-convert:hover {\n",
              "      background-color: #E2EBFA;\n",
              "      box-shadow: 0px 1px 2px rgba(60, 64, 67, 0.3), 0px 1px 3px 1px rgba(60, 64, 67, 0.15);\n",
              "      fill: #174EA6;\n",
              "    }\n",
              "\n",
              "    [theme=dark] .colab-df-convert {\n",
              "      background-color: #3B4455;\n",
              "      fill: #D2E3FC;\n",
              "    }\n",
              "\n",
              "    [theme=dark] .colab-df-convert:hover {\n",
              "      background-color: #434B5C;\n",
              "      box-shadow: 0px 1px 3px 1px rgba(0, 0, 0, 0.15);\n",
              "      filter: drop-shadow(0px 1px 2px rgba(0, 0, 0, 0.3));\n",
              "      fill: #FFFFFF;\n",
              "    }\n",
              "  </style>\n",
              "\n",
              "      <script>\n",
              "        const buttonEl =\n",
              "          document.querySelector('#df-85eecc7e-79fc-4f29-8bed-d92d5a8ab5ae button.colab-df-convert');\n",
              "        buttonEl.style.display =\n",
              "          google.colab.kernel.accessAllowed ? 'block' : 'none';\n",
              "\n",
              "        async function convertToInteractive(key) {\n",
              "          const element = document.querySelector('#df-85eecc7e-79fc-4f29-8bed-d92d5a8ab5ae');\n",
              "          const dataTable =\n",
              "            await google.colab.kernel.invokeFunction('convertToInteractive',\n",
              "                                                     [key], {});\n",
              "          if (!dataTable) return;\n",
              "\n",
              "          const docLinkHtml = 'Like what you see? Visit the ' +\n",
              "            '<a target=\"_blank\" href=https://colab.research.google.com/notebooks/data_table.ipynb>data table notebook</a>'\n",
              "            + ' to learn more about interactive tables.';\n",
              "          element.innerHTML = '';\n",
              "          dataTable['output_type'] = 'display_data';\n",
              "          await google.colab.output.renderOutput(dataTable, element);\n",
              "          const docLink = document.createElement('div');\n",
              "          docLink.innerHTML = docLinkHtml;\n",
              "          element.appendChild(docLink);\n",
              "        }\n",
              "      </script>\n",
              "    </div>\n",
              "  </div>\n",
              "  "
            ]
          },
          "metadata": {},
          "execution_count": 6
        }
      ]
    },
    {
      "cell_type": "code",
      "source": [
        "df.tail()"
      ],
      "metadata": {
        "colab": {
          "base_uri": "https://localhost:8080/",
          "height": 386
        },
        "id": "i0utS3TPUP0o",
        "outputId": "940685e6-4fe6-4cb4-9237-a6510381869b"
      },
      "execution_count": null,
      "outputs": [
        {
          "output_type": "execute_result",
          "data": {
            "text/plain": [
              "             hotel  is_canceled  lead_time  arrival_date_year  \\\n",
              "119385  City Hotel            0         23               2017   \n",
              "119386  City Hotel            0        102               2017   \n",
              "119387  City Hotel            0         34               2017   \n",
              "119388  City Hotel            0        109               2017   \n",
              "119389  City Hotel            0        205               2017   \n",
              "\n",
              "       arrival_date_month  arrival_date_week_number  \\\n",
              "119385             August                        35   \n",
              "119386             August                        35   \n",
              "119387             August                        35   \n",
              "119388             August                        35   \n",
              "119389             August                        35   \n",
              "\n",
              "        arrival_date_day_of_month  stays_in_weekend_nights  \\\n",
              "119385                         30                        2   \n",
              "119386                         31                        2   \n",
              "119387                         31                        2   \n",
              "119388                         31                        2   \n",
              "119389                         29                        2   \n",
              "\n",
              "        stays_in_week_nights  adults  ...  deposit_type  agent company  \\\n",
              "119385                     5       2  ...    No Deposit  394.0     NaN   \n",
              "119386                     5       3  ...    No Deposit    9.0     NaN   \n",
              "119387                     5       2  ...    No Deposit    9.0     NaN   \n",
              "119388                     5       2  ...    No Deposit   89.0     NaN   \n",
              "119389                     7       2  ...    No Deposit    9.0     NaN   \n",
              "\n",
              "       days_in_waiting_list customer_type     adr  \\\n",
              "119385                    0     Transient   96.14   \n",
              "119386                    0     Transient  225.43   \n",
              "119387                    0     Transient  157.71   \n",
              "119388                    0     Transient  104.40   \n",
              "119389                    0     Transient  151.20   \n",
              "\n",
              "        required_car_parking_spaces  total_of_special_requests  \\\n",
              "119385                            0                          0   \n",
              "119386                            0                          2   \n",
              "119387                            0                          4   \n",
              "119388                            0                          0   \n",
              "119389                            0                          2   \n",
              "\n",
              "        reservation_status reservation_status_date  \n",
              "119385           Check-Out              2017-09-06  \n",
              "119386           Check-Out              2017-09-07  \n",
              "119387           Check-Out              2017-09-07  \n",
              "119388           Check-Out              2017-09-07  \n",
              "119389           Check-Out              2017-09-07  \n",
              "\n",
              "[5 rows x 32 columns]"
            ],
            "text/html": [
              "\n",
              "  <div id=\"df-30ec98e8-1294-47d5-a72d-4531281ec07b\">\n",
              "    <div class=\"colab-df-container\">\n",
              "      <div>\n",
              "<style scoped>\n",
              "    .dataframe tbody tr th:only-of-type {\n",
              "        vertical-align: middle;\n",
              "    }\n",
              "\n",
              "    .dataframe tbody tr th {\n",
              "        vertical-align: top;\n",
              "    }\n",
              "\n",
              "    .dataframe thead th {\n",
              "        text-align: right;\n",
              "    }\n",
              "</style>\n",
              "<table border=\"1\" class=\"dataframe\">\n",
              "  <thead>\n",
              "    <tr style=\"text-align: right;\">\n",
              "      <th></th>\n",
              "      <th>hotel</th>\n",
              "      <th>is_canceled</th>\n",
              "      <th>lead_time</th>\n",
              "      <th>arrival_date_year</th>\n",
              "      <th>arrival_date_month</th>\n",
              "      <th>arrival_date_week_number</th>\n",
              "      <th>arrival_date_day_of_month</th>\n",
              "      <th>stays_in_weekend_nights</th>\n",
              "      <th>stays_in_week_nights</th>\n",
              "      <th>adults</th>\n",
              "      <th>...</th>\n",
              "      <th>deposit_type</th>\n",
              "      <th>agent</th>\n",
              "      <th>company</th>\n",
              "      <th>days_in_waiting_list</th>\n",
              "      <th>customer_type</th>\n",
              "      <th>adr</th>\n",
              "      <th>required_car_parking_spaces</th>\n",
              "      <th>total_of_special_requests</th>\n",
              "      <th>reservation_status</th>\n",
              "      <th>reservation_status_date</th>\n",
              "    </tr>\n",
              "  </thead>\n",
              "  <tbody>\n",
              "    <tr>\n",
              "      <th>119385</th>\n",
              "      <td>City Hotel</td>\n",
              "      <td>0</td>\n",
              "      <td>23</td>\n",
              "      <td>2017</td>\n",
              "      <td>August</td>\n",
              "      <td>35</td>\n",
              "      <td>30</td>\n",
              "      <td>2</td>\n",
              "      <td>5</td>\n",
              "      <td>2</td>\n",
              "      <td>...</td>\n",
              "      <td>No Deposit</td>\n",
              "      <td>394.0</td>\n",
              "      <td>NaN</td>\n",
              "      <td>0</td>\n",
              "      <td>Transient</td>\n",
              "      <td>96.14</td>\n",
              "      <td>0</td>\n",
              "      <td>0</td>\n",
              "      <td>Check-Out</td>\n",
              "      <td>2017-09-06</td>\n",
              "    </tr>\n",
              "    <tr>\n",
              "      <th>119386</th>\n",
              "      <td>City Hotel</td>\n",
              "      <td>0</td>\n",
              "      <td>102</td>\n",
              "      <td>2017</td>\n",
              "      <td>August</td>\n",
              "      <td>35</td>\n",
              "      <td>31</td>\n",
              "      <td>2</td>\n",
              "      <td>5</td>\n",
              "      <td>3</td>\n",
              "      <td>...</td>\n",
              "      <td>No Deposit</td>\n",
              "      <td>9.0</td>\n",
              "      <td>NaN</td>\n",
              "      <td>0</td>\n",
              "      <td>Transient</td>\n",
              "      <td>225.43</td>\n",
              "      <td>0</td>\n",
              "      <td>2</td>\n",
              "      <td>Check-Out</td>\n",
              "      <td>2017-09-07</td>\n",
              "    </tr>\n",
              "    <tr>\n",
              "      <th>119387</th>\n",
              "      <td>City Hotel</td>\n",
              "      <td>0</td>\n",
              "      <td>34</td>\n",
              "      <td>2017</td>\n",
              "      <td>August</td>\n",
              "      <td>35</td>\n",
              "      <td>31</td>\n",
              "      <td>2</td>\n",
              "      <td>5</td>\n",
              "      <td>2</td>\n",
              "      <td>...</td>\n",
              "      <td>No Deposit</td>\n",
              "      <td>9.0</td>\n",
              "      <td>NaN</td>\n",
              "      <td>0</td>\n",
              "      <td>Transient</td>\n",
              "      <td>157.71</td>\n",
              "      <td>0</td>\n",
              "      <td>4</td>\n",
              "      <td>Check-Out</td>\n",
              "      <td>2017-09-07</td>\n",
              "    </tr>\n",
              "    <tr>\n",
              "      <th>119388</th>\n",
              "      <td>City Hotel</td>\n",
              "      <td>0</td>\n",
              "      <td>109</td>\n",
              "      <td>2017</td>\n",
              "      <td>August</td>\n",
              "      <td>35</td>\n",
              "      <td>31</td>\n",
              "      <td>2</td>\n",
              "      <td>5</td>\n",
              "      <td>2</td>\n",
              "      <td>...</td>\n",
              "      <td>No Deposit</td>\n",
              "      <td>89.0</td>\n",
              "      <td>NaN</td>\n",
              "      <td>0</td>\n",
              "      <td>Transient</td>\n",
              "      <td>104.40</td>\n",
              "      <td>0</td>\n",
              "      <td>0</td>\n",
              "      <td>Check-Out</td>\n",
              "      <td>2017-09-07</td>\n",
              "    </tr>\n",
              "    <tr>\n",
              "      <th>119389</th>\n",
              "      <td>City Hotel</td>\n",
              "      <td>0</td>\n",
              "      <td>205</td>\n",
              "      <td>2017</td>\n",
              "      <td>August</td>\n",
              "      <td>35</td>\n",
              "      <td>29</td>\n",
              "      <td>2</td>\n",
              "      <td>7</td>\n",
              "      <td>2</td>\n",
              "      <td>...</td>\n",
              "      <td>No Deposit</td>\n",
              "      <td>9.0</td>\n",
              "      <td>NaN</td>\n",
              "      <td>0</td>\n",
              "      <td>Transient</td>\n",
              "      <td>151.20</td>\n",
              "      <td>0</td>\n",
              "      <td>2</td>\n",
              "      <td>Check-Out</td>\n",
              "      <td>2017-09-07</td>\n",
              "    </tr>\n",
              "  </tbody>\n",
              "</table>\n",
              "<p>5 rows × 32 columns</p>\n",
              "</div>\n",
              "      <button class=\"colab-df-convert\" onclick=\"convertToInteractive('df-30ec98e8-1294-47d5-a72d-4531281ec07b')\"\n",
              "              title=\"Convert this dataframe to an interactive table.\"\n",
              "              style=\"display:none;\">\n",
              "        \n",
              "  <svg xmlns=\"http://www.w3.org/2000/svg\" height=\"24px\"viewBox=\"0 0 24 24\"\n",
              "       width=\"24px\">\n",
              "    <path d=\"M0 0h24v24H0V0z\" fill=\"none\"/>\n",
              "    <path d=\"M18.56 5.44l.94 2.06.94-2.06 2.06-.94-2.06-.94-.94-2.06-.94 2.06-2.06.94zm-11 1L8.5 8.5l.94-2.06 2.06-.94-2.06-.94L8.5 2.5l-.94 2.06-2.06.94zm10 10l.94 2.06.94-2.06 2.06-.94-2.06-.94-.94-2.06-.94 2.06-2.06.94z\"/><path d=\"M17.41 7.96l-1.37-1.37c-.4-.4-.92-.59-1.43-.59-.52 0-1.04.2-1.43.59L10.3 9.45l-7.72 7.72c-.78.78-.78 2.05 0 2.83L4 21.41c.39.39.9.59 1.41.59.51 0 1.02-.2 1.41-.59l7.78-7.78 2.81-2.81c.8-.78.8-2.07 0-2.86zM5.41 20L4 18.59l7.72-7.72 1.47 1.35L5.41 20z\"/>\n",
              "  </svg>\n",
              "      </button>\n",
              "      \n",
              "  <style>\n",
              "    .colab-df-container {\n",
              "      display:flex;\n",
              "      flex-wrap:wrap;\n",
              "      gap: 12px;\n",
              "    }\n",
              "\n",
              "    .colab-df-convert {\n",
              "      background-color: #E8F0FE;\n",
              "      border: none;\n",
              "      border-radius: 50%;\n",
              "      cursor: pointer;\n",
              "      display: none;\n",
              "      fill: #1967D2;\n",
              "      height: 32px;\n",
              "      padding: 0 0 0 0;\n",
              "      width: 32px;\n",
              "    }\n",
              "\n",
              "    .colab-df-convert:hover {\n",
              "      background-color: #E2EBFA;\n",
              "      box-shadow: 0px 1px 2px rgba(60, 64, 67, 0.3), 0px 1px 3px 1px rgba(60, 64, 67, 0.15);\n",
              "      fill: #174EA6;\n",
              "    }\n",
              "\n",
              "    [theme=dark] .colab-df-convert {\n",
              "      background-color: #3B4455;\n",
              "      fill: #D2E3FC;\n",
              "    }\n",
              "\n",
              "    [theme=dark] .colab-df-convert:hover {\n",
              "      background-color: #434B5C;\n",
              "      box-shadow: 0px 1px 3px 1px rgba(0, 0, 0, 0.15);\n",
              "      filter: drop-shadow(0px 1px 2px rgba(0, 0, 0, 0.3));\n",
              "      fill: #FFFFFF;\n",
              "    }\n",
              "  </style>\n",
              "\n",
              "      <script>\n",
              "        const buttonEl =\n",
              "          document.querySelector('#df-30ec98e8-1294-47d5-a72d-4531281ec07b button.colab-df-convert');\n",
              "        buttonEl.style.display =\n",
              "          google.colab.kernel.accessAllowed ? 'block' : 'none';\n",
              "\n",
              "        async function convertToInteractive(key) {\n",
              "          const element = document.querySelector('#df-30ec98e8-1294-47d5-a72d-4531281ec07b');\n",
              "          const dataTable =\n",
              "            await google.colab.kernel.invokeFunction('convertToInteractive',\n",
              "                                                     [key], {});\n",
              "          if (!dataTable) return;\n",
              "\n",
              "          const docLinkHtml = 'Like what you see? Visit the ' +\n",
              "            '<a target=\"_blank\" href=https://colab.research.google.com/notebooks/data_table.ipynb>data table notebook</a>'\n",
              "            + ' to learn more about interactive tables.';\n",
              "          element.innerHTML = '';\n",
              "          dataTable['output_type'] = 'display_data';\n",
              "          await google.colab.output.renderOutput(dataTable, element);\n",
              "          const docLink = document.createElement('div');\n",
              "          docLink.innerHTML = docLinkHtml;\n",
              "          element.appendChild(docLink);\n",
              "        }\n",
              "      </script>\n",
              "    </div>\n",
              "  </div>\n",
              "  "
            ]
          },
          "metadata": {},
          "execution_count": 7
        }
      ]
    },
    {
      "cell_type": "code",
      "source": [
        "df.info()"
      ],
      "metadata": {
        "colab": {
          "base_uri": "https://localhost:8080/"
        },
        "id": "0KfJxUHmUXmJ",
        "outputId": "0beff175-b848-4b00-8ed8-a1cd34c090b6"
      },
      "execution_count": null,
      "outputs": [
        {
          "output_type": "stream",
          "name": "stdout",
          "text": [
            "<class 'pandas.core.frame.DataFrame'>\n",
            "RangeIndex: 119390 entries, 0 to 119389\n",
            "Data columns (total 32 columns):\n",
            " #   Column                          Non-Null Count   Dtype  \n",
            "---  ------                          --------------   -----  \n",
            " 0   hotel                           119390 non-null  object \n",
            " 1   is_canceled                     119390 non-null  int64  \n",
            " 2   lead_time                       119390 non-null  int64  \n",
            " 3   arrival_date_year               119390 non-null  int64  \n",
            " 4   arrival_date_month              119390 non-null  object \n",
            " 5   arrival_date_week_number        119390 non-null  int64  \n",
            " 6   arrival_date_day_of_month       119390 non-null  int64  \n",
            " 7   stays_in_weekend_nights         119390 non-null  int64  \n",
            " 8   stays_in_week_nights            119390 non-null  int64  \n",
            " 9   adults                          119390 non-null  int64  \n",
            " 10  children                        119386 non-null  float64\n",
            " 11  babies                          119390 non-null  int64  \n",
            " 12  meal                            119390 non-null  object \n",
            " 13  country                         118902 non-null  object \n",
            " 14  market_segment                  119390 non-null  object \n",
            " 15  distribution_channel            119390 non-null  object \n",
            " 16  is_repeated_guest               119390 non-null  int64  \n",
            " 17  previous_cancellations          119390 non-null  int64  \n",
            " 18  previous_bookings_not_canceled  119390 non-null  int64  \n",
            " 19  reserved_room_type              119390 non-null  object \n",
            " 20  assigned_room_type              119390 non-null  object \n",
            " 21  booking_changes                 119390 non-null  int64  \n",
            " 22  deposit_type                    119390 non-null  object \n",
            " 23  agent                           103050 non-null  float64\n",
            " 24  company                         6797 non-null    float64\n",
            " 25  days_in_waiting_list            119390 non-null  int64  \n",
            " 26  customer_type                   119390 non-null  object \n",
            " 27  adr                             119390 non-null  float64\n",
            " 28  required_car_parking_spaces     119390 non-null  int64  \n",
            " 29  total_of_special_requests       119390 non-null  int64  \n",
            " 30  reservation_status              119390 non-null  object \n",
            " 31  reservation_status_date         119390 non-null  object \n",
            "dtypes: float64(4), int64(16), object(12)\n",
            "memory usage: 29.1+ MB\n"
          ]
        }
      ]
    },
    {
      "cell_type": "markdown",
      "source": [
        "We observing that there are 119390 rows and 32 coloumns in the given dataset.\n",
        "Also there are some columns like 'children', 'company', 'country' and 'agent' have null values in the given dataframe.\n"
      ],
      "metadata": {
        "id": "mKST4e2e5aJ1"
      }
    },
    {
      "cell_type": "code",
      "source": [
        "df.describe()"
      ],
      "metadata": {
        "colab": {
          "base_uri": "https://localhost:8080/",
          "height": 364
        },
        "id": "WuYazDyS6a5C",
        "outputId": "139c8512-b34b-470e-9103-52cee05e97bd"
      },
      "execution_count": null,
      "outputs": [
        {
          "output_type": "execute_result",
          "data": {
            "text/plain": [
              "         is_canceled      lead_time  arrival_date_year  \\\n",
              "count  119390.000000  119390.000000      119390.000000   \n",
              "mean        0.370416     104.011416        2016.156554   \n",
              "std         0.482918     106.863097           0.707476   \n",
              "min         0.000000       0.000000        2015.000000   \n",
              "25%         0.000000      18.000000        2016.000000   \n",
              "50%         0.000000      69.000000        2016.000000   \n",
              "75%         1.000000     160.000000        2017.000000   \n",
              "max         1.000000     737.000000        2017.000000   \n",
              "\n",
              "       arrival_date_week_number  arrival_date_day_of_month  \\\n",
              "count             119390.000000              119390.000000   \n",
              "mean                  27.165173                  15.798241   \n",
              "std                   13.605138                   8.780829   \n",
              "min                    1.000000                   1.000000   \n",
              "25%                   16.000000                   8.000000   \n",
              "50%                   28.000000                  16.000000   \n",
              "75%                   38.000000                  23.000000   \n",
              "max                   53.000000                  31.000000   \n",
              "\n",
              "       stays_in_weekend_nights  stays_in_week_nights         adults  \\\n",
              "count            119390.000000         119390.000000  119390.000000   \n",
              "mean                  0.927599              2.500302       1.856403   \n",
              "std                   0.998613              1.908286       0.579261   \n",
              "min                   0.000000              0.000000       0.000000   \n",
              "25%                   0.000000              1.000000       2.000000   \n",
              "50%                   1.000000              2.000000       2.000000   \n",
              "75%                   2.000000              3.000000       2.000000   \n",
              "max                  19.000000             50.000000      55.000000   \n",
              "\n",
              "            children         babies  is_repeated_guest  \\\n",
              "count  119386.000000  119390.000000      119390.000000   \n",
              "mean        0.103890       0.007949           0.031912   \n",
              "std         0.398561       0.097436           0.175767   \n",
              "min         0.000000       0.000000           0.000000   \n",
              "25%         0.000000       0.000000           0.000000   \n",
              "50%         0.000000       0.000000           0.000000   \n",
              "75%         0.000000       0.000000           0.000000   \n",
              "max        10.000000      10.000000           1.000000   \n",
              "\n",
              "       previous_cancellations  previous_bookings_not_canceled  \\\n",
              "count           119390.000000                   119390.000000   \n",
              "mean                 0.087118                        0.137097   \n",
              "std                  0.844336                        1.497437   \n",
              "min                  0.000000                        0.000000   \n",
              "25%                  0.000000                        0.000000   \n",
              "50%                  0.000000                        0.000000   \n",
              "75%                  0.000000                        0.000000   \n",
              "max                 26.000000                       72.000000   \n",
              "\n",
              "       booking_changes          agent      company  days_in_waiting_list  \\\n",
              "count    119390.000000  103050.000000  6797.000000         119390.000000   \n",
              "mean          0.221124      86.693382   189.266735              2.321149   \n",
              "std           0.652306     110.774548   131.655015             17.594721   \n",
              "min           0.000000       1.000000     6.000000              0.000000   \n",
              "25%           0.000000       9.000000    62.000000              0.000000   \n",
              "50%           0.000000      14.000000   179.000000              0.000000   \n",
              "75%           0.000000     229.000000   270.000000              0.000000   \n",
              "max          21.000000     535.000000   543.000000            391.000000   \n",
              "\n",
              "                 adr  required_car_parking_spaces  total_of_special_requests  \n",
              "count  119390.000000                119390.000000              119390.000000  \n",
              "mean      101.831122                     0.062518                   0.571363  \n",
              "std        50.535790                     0.245291                   0.792798  \n",
              "min        -6.380000                     0.000000                   0.000000  \n",
              "25%        69.290000                     0.000000                   0.000000  \n",
              "50%        94.575000                     0.000000                   0.000000  \n",
              "75%       126.000000                     0.000000                   1.000000  \n",
              "max      5400.000000                     8.000000                   5.000000  "
            ],
            "text/html": [
              "\n",
              "  <div id=\"df-33908aff-700f-4f70-b199-2f1ccc8bd075\">\n",
              "    <div class=\"colab-df-container\">\n",
              "      <div>\n",
              "<style scoped>\n",
              "    .dataframe tbody tr th:only-of-type {\n",
              "        vertical-align: middle;\n",
              "    }\n",
              "\n",
              "    .dataframe tbody tr th {\n",
              "        vertical-align: top;\n",
              "    }\n",
              "\n",
              "    .dataframe thead th {\n",
              "        text-align: right;\n",
              "    }\n",
              "</style>\n",
              "<table border=\"1\" class=\"dataframe\">\n",
              "  <thead>\n",
              "    <tr style=\"text-align: right;\">\n",
              "      <th></th>\n",
              "      <th>is_canceled</th>\n",
              "      <th>lead_time</th>\n",
              "      <th>arrival_date_year</th>\n",
              "      <th>arrival_date_week_number</th>\n",
              "      <th>arrival_date_day_of_month</th>\n",
              "      <th>stays_in_weekend_nights</th>\n",
              "      <th>stays_in_week_nights</th>\n",
              "      <th>adults</th>\n",
              "      <th>children</th>\n",
              "      <th>babies</th>\n",
              "      <th>is_repeated_guest</th>\n",
              "      <th>previous_cancellations</th>\n",
              "      <th>previous_bookings_not_canceled</th>\n",
              "      <th>booking_changes</th>\n",
              "      <th>agent</th>\n",
              "      <th>company</th>\n",
              "      <th>days_in_waiting_list</th>\n",
              "      <th>adr</th>\n",
              "      <th>required_car_parking_spaces</th>\n",
              "      <th>total_of_special_requests</th>\n",
              "    </tr>\n",
              "  </thead>\n",
              "  <tbody>\n",
              "    <tr>\n",
              "      <th>count</th>\n",
              "      <td>119390.000000</td>\n",
              "      <td>119390.000000</td>\n",
              "      <td>119390.000000</td>\n",
              "      <td>119390.000000</td>\n",
              "      <td>119390.000000</td>\n",
              "      <td>119390.000000</td>\n",
              "      <td>119390.000000</td>\n",
              "      <td>119390.000000</td>\n",
              "      <td>119386.000000</td>\n",
              "      <td>119390.000000</td>\n",
              "      <td>119390.000000</td>\n",
              "      <td>119390.000000</td>\n",
              "      <td>119390.000000</td>\n",
              "      <td>119390.000000</td>\n",
              "      <td>103050.000000</td>\n",
              "      <td>6797.000000</td>\n",
              "      <td>119390.000000</td>\n",
              "      <td>119390.000000</td>\n",
              "      <td>119390.000000</td>\n",
              "      <td>119390.000000</td>\n",
              "    </tr>\n",
              "    <tr>\n",
              "      <th>mean</th>\n",
              "      <td>0.370416</td>\n",
              "      <td>104.011416</td>\n",
              "      <td>2016.156554</td>\n",
              "      <td>27.165173</td>\n",
              "      <td>15.798241</td>\n",
              "      <td>0.927599</td>\n",
              "      <td>2.500302</td>\n",
              "      <td>1.856403</td>\n",
              "      <td>0.103890</td>\n",
              "      <td>0.007949</td>\n",
              "      <td>0.031912</td>\n",
              "      <td>0.087118</td>\n",
              "      <td>0.137097</td>\n",
              "      <td>0.221124</td>\n",
              "      <td>86.693382</td>\n",
              "      <td>189.266735</td>\n",
              "      <td>2.321149</td>\n",
              "      <td>101.831122</td>\n",
              "      <td>0.062518</td>\n",
              "      <td>0.571363</td>\n",
              "    </tr>\n",
              "    <tr>\n",
              "      <th>std</th>\n",
              "      <td>0.482918</td>\n",
              "      <td>106.863097</td>\n",
              "      <td>0.707476</td>\n",
              "      <td>13.605138</td>\n",
              "      <td>8.780829</td>\n",
              "      <td>0.998613</td>\n",
              "      <td>1.908286</td>\n",
              "      <td>0.579261</td>\n",
              "      <td>0.398561</td>\n",
              "      <td>0.097436</td>\n",
              "      <td>0.175767</td>\n",
              "      <td>0.844336</td>\n",
              "      <td>1.497437</td>\n",
              "      <td>0.652306</td>\n",
              "      <td>110.774548</td>\n",
              "      <td>131.655015</td>\n",
              "      <td>17.594721</td>\n",
              "      <td>50.535790</td>\n",
              "      <td>0.245291</td>\n",
              "      <td>0.792798</td>\n",
              "    </tr>\n",
              "    <tr>\n",
              "      <th>min</th>\n",
              "      <td>0.000000</td>\n",
              "      <td>0.000000</td>\n",
              "      <td>2015.000000</td>\n",
              "      <td>1.000000</td>\n",
              "      <td>1.000000</td>\n",
              "      <td>0.000000</td>\n",
              "      <td>0.000000</td>\n",
              "      <td>0.000000</td>\n",
              "      <td>0.000000</td>\n",
              "      <td>0.000000</td>\n",
              "      <td>0.000000</td>\n",
              "      <td>0.000000</td>\n",
              "      <td>0.000000</td>\n",
              "      <td>0.000000</td>\n",
              "      <td>1.000000</td>\n",
              "      <td>6.000000</td>\n",
              "      <td>0.000000</td>\n",
              "      <td>-6.380000</td>\n",
              "      <td>0.000000</td>\n",
              "      <td>0.000000</td>\n",
              "    </tr>\n",
              "    <tr>\n",
              "      <th>25%</th>\n",
              "      <td>0.000000</td>\n",
              "      <td>18.000000</td>\n",
              "      <td>2016.000000</td>\n",
              "      <td>16.000000</td>\n",
              "      <td>8.000000</td>\n",
              "      <td>0.000000</td>\n",
              "      <td>1.000000</td>\n",
              "      <td>2.000000</td>\n",
              "      <td>0.000000</td>\n",
              "      <td>0.000000</td>\n",
              "      <td>0.000000</td>\n",
              "      <td>0.000000</td>\n",
              "      <td>0.000000</td>\n",
              "      <td>0.000000</td>\n",
              "      <td>9.000000</td>\n",
              "      <td>62.000000</td>\n",
              "      <td>0.000000</td>\n",
              "      <td>69.290000</td>\n",
              "      <td>0.000000</td>\n",
              "      <td>0.000000</td>\n",
              "    </tr>\n",
              "    <tr>\n",
              "      <th>50%</th>\n",
              "      <td>0.000000</td>\n",
              "      <td>69.000000</td>\n",
              "      <td>2016.000000</td>\n",
              "      <td>28.000000</td>\n",
              "      <td>16.000000</td>\n",
              "      <td>1.000000</td>\n",
              "      <td>2.000000</td>\n",
              "      <td>2.000000</td>\n",
              "      <td>0.000000</td>\n",
              "      <td>0.000000</td>\n",
              "      <td>0.000000</td>\n",
              "      <td>0.000000</td>\n",
              "      <td>0.000000</td>\n",
              "      <td>0.000000</td>\n",
              "      <td>14.000000</td>\n",
              "      <td>179.000000</td>\n",
              "      <td>0.000000</td>\n",
              "      <td>94.575000</td>\n",
              "      <td>0.000000</td>\n",
              "      <td>0.000000</td>\n",
              "    </tr>\n",
              "    <tr>\n",
              "      <th>75%</th>\n",
              "      <td>1.000000</td>\n",
              "      <td>160.000000</td>\n",
              "      <td>2017.000000</td>\n",
              "      <td>38.000000</td>\n",
              "      <td>23.000000</td>\n",
              "      <td>2.000000</td>\n",
              "      <td>3.000000</td>\n",
              "      <td>2.000000</td>\n",
              "      <td>0.000000</td>\n",
              "      <td>0.000000</td>\n",
              "      <td>0.000000</td>\n",
              "      <td>0.000000</td>\n",
              "      <td>0.000000</td>\n",
              "      <td>0.000000</td>\n",
              "      <td>229.000000</td>\n",
              "      <td>270.000000</td>\n",
              "      <td>0.000000</td>\n",
              "      <td>126.000000</td>\n",
              "      <td>0.000000</td>\n",
              "      <td>1.000000</td>\n",
              "    </tr>\n",
              "    <tr>\n",
              "      <th>max</th>\n",
              "      <td>1.000000</td>\n",
              "      <td>737.000000</td>\n",
              "      <td>2017.000000</td>\n",
              "      <td>53.000000</td>\n",
              "      <td>31.000000</td>\n",
              "      <td>19.000000</td>\n",
              "      <td>50.000000</td>\n",
              "      <td>55.000000</td>\n",
              "      <td>10.000000</td>\n",
              "      <td>10.000000</td>\n",
              "      <td>1.000000</td>\n",
              "      <td>26.000000</td>\n",
              "      <td>72.000000</td>\n",
              "      <td>21.000000</td>\n",
              "      <td>535.000000</td>\n",
              "      <td>543.000000</td>\n",
              "      <td>391.000000</td>\n",
              "      <td>5400.000000</td>\n",
              "      <td>8.000000</td>\n",
              "      <td>5.000000</td>\n",
              "    </tr>\n",
              "  </tbody>\n",
              "</table>\n",
              "</div>\n",
              "      <button class=\"colab-df-convert\" onclick=\"convertToInteractive('df-33908aff-700f-4f70-b199-2f1ccc8bd075')\"\n",
              "              title=\"Convert this dataframe to an interactive table.\"\n",
              "              style=\"display:none;\">\n",
              "        \n",
              "  <svg xmlns=\"http://www.w3.org/2000/svg\" height=\"24px\"viewBox=\"0 0 24 24\"\n",
              "       width=\"24px\">\n",
              "    <path d=\"M0 0h24v24H0V0z\" fill=\"none\"/>\n",
              "    <path d=\"M18.56 5.44l.94 2.06.94-2.06 2.06-.94-2.06-.94-.94-2.06-.94 2.06-2.06.94zm-11 1L8.5 8.5l.94-2.06 2.06-.94-2.06-.94L8.5 2.5l-.94 2.06-2.06.94zm10 10l.94 2.06.94-2.06 2.06-.94-2.06-.94-.94-2.06-.94 2.06-2.06.94z\"/><path d=\"M17.41 7.96l-1.37-1.37c-.4-.4-.92-.59-1.43-.59-.52 0-1.04.2-1.43.59L10.3 9.45l-7.72 7.72c-.78.78-.78 2.05 0 2.83L4 21.41c.39.39.9.59 1.41.59.51 0 1.02-.2 1.41-.59l7.78-7.78 2.81-2.81c.8-.78.8-2.07 0-2.86zM5.41 20L4 18.59l7.72-7.72 1.47 1.35L5.41 20z\"/>\n",
              "  </svg>\n",
              "      </button>\n",
              "      \n",
              "  <style>\n",
              "    .colab-df-container {\n",
              "      display:flex;\n",
              "      flex-wrap:wrap;\n",
              "      gap: 12px;\n",
              "    }\n",
              "\n",
              "    .colab-df-convert {\n",
              "      background-color: #E8F0FE;\n",
              "      border: none;\n",
              "      border-radius: 50%;\n",
              "      cursor: pointer;\n",
              "      display: none;\n",
              "      fill: #1967D2;\n",
              "      height: 32px;\n",
              "      padding: 0 0 0 0;\n",
              "      width: 32px;\n",
              "    }\n",
              "\n",
              "    .colab-df-convert:hover {\n",
              "      background-color: #E2EBFA;\n",
              "      box-shadow: 0px 1px 2px rgba(60, 64, 67, 0.3), 0px 1px 3px 1px rgba(60, 64, 67, 0.15);\n",
              "      fill: #174EA6;\n",
              "    }\n",
              "\n",
              "    [theme=dark] .colab-df-convert {\n",
              "      background-color: #3B4455;\n",
              "      fill: #D2E3FC;\n",
              "    }\n",
              "\n",
              "    [theme=dark] .colab-df-convert:hover {\n",
              "      background-color: #434B5C;\n",
              "      box-shadow: 0px 1px 3px 1px rgba(0, 0, 0, 0.15);\n",
              "      filter: drop-shadow(0px 1px 2px rgba(0, 0, 0, 0.3));\n",
              "      fill: #FFFFFF;\n",
              "    }\n",
              "  </style>\n",
              "\n",
              "      <script>\n",
              "        const buttonEl =\n",
              "          document.querySelector('#df-33908aff-700f-4f70-b199-2f1ccc8bd075 button.colab-df-convert');\n",
              "        buttonEl.style.display =\n",
              "          google.colab.kernel.accessAllowed ? 'block' : 'none';\n",
              "\n",
              "        async function convertToInteractive(key) {\n",
              "          const element = document.querySelector('#df-33908aff-700f-4f70-b199-2f1ccc8bd075');\n",
              "          const dataTable =\n",
              "            await google.colab.kernel.invokeFunction('convertToInteractive',\n",
              "                                                     [key], {});\n",
              "          if (!dataTable) return;\n",
              "\n",
              "          const docLinkHtml = 'Like what you see? Visit the ' +\n",
              "            '<a target=\"_blank\" href=https://colab.research.google.com/notebooks/data_table.ipynb>data table notebook</a>'\n",
              "            + ' to learn more about interactive tables.';\n",
              "          element.innerHTML = '';\n",
              "          dataTable['output_type'] = 'display_data';\n",
              "          await google.colab.output.renderOutput(dataTable, element);\n",
              "          const docLink = document.createElement('div');\n",
              "          docLink.innerHTML = docLinkHtml;\n",
              "          element.appendChild(docLink);\n",
              "        }\n",
              "      </script>\n",
              "    </div>\n",
              "  </div>\n",
              "  "
            ]
          },
          "metadata": {},
          "execution_count": 9
        }
      ]
    },
    {
      "cell_type": "markdown",
      "source": [
        "## First of all, let's explore the different columns of the given data frame."
      ],
      "metadata": {
        "id": "gsmZ-B3lAaoW"
      }
    },
    {
      "cell_type": "code",
      "source": [
        "df.columns"
      ],
      "metadata": {
        "colab": {
          "base_uri": "https://localhost:8080/"
        },
        "id": "VP2hcya0Gvk9",
        "outputId": "3aaec017-9b81-4881-c02b-1477feab79ec"
      },
      "execution_count": null,
      "outputs": [
        {
          "output_type": "execute_result",
          "data": {
            "text/plain": [
              "Index(['hotel', 'is_canceled', 'lead_time', 'arrival_date_year',\n",
              "       'arrival_date_month', 'arrival_date_week_number',\n",
              "       'arrival_date_day_of_month', 'stays_in_weekend_nights',\n",
              "       'stays_in_week_nights', 'adults', 'children', 'babies', 'meal',\n",
              "       'country', 'market_segment', 'distribution_channel',\n",
              "       'is_repeated_guest', 'previous_cancellations',\n",
              "       'previous_bookings_not_canceled', 'reserved_room_type',\n",
              "       'assigned_room_type', 'booking_changes', 'deposit_type', 'agent',\n",
              "       'company', 'days_in_waiting_list', 'customer_type', 'adr',\n",
              "       'required_car_parking_spaces', 'total_of_special_requests',\n",
              "       'reservation_status', 'reservation_status_date'],\n",
              "      dtype='object')"
            ]
          },
          "metadata": {},
          "execution_count": 10
        }
      ]
    },
    {
      "cell_type": "code",
      "source": [
        "#let's see the unique values attained by some of the columns.\n",
        "df['hotel'].unique()"
      ],
      "metadata": {
        "colab": {
          "base_uri": "https://localhost:8080/"
        },
        "id": "_78wZLGr-giJ",
        "outputId": "58f985ee-3633-4d86-f001-a9ba3625dd49"
      },
      "execution_count": null,
      "outputs": [
        {
          "output_type": "execute_result",
          "data": {
            "text/plain": [
              "array(['Resort Hotel', 'City Hotel'], dtype=object)"
            ]
          },
          "metadata": {},
          "execution_count": 11
        }
      ]
    },
    {
      "cell_type": "markdown",
      "source": [
        "There are two types of hotel: 'Resort Hotel', 'City Hotel'."
      ],
      "metadata": {
        "id": "GIc7hxSmA_w-"
      }
    },
    {
      "cell_type": "code",
      "source": [
        "df['is_canceled'].unique(\t)"
      ],
      "metadata": {
        "colab": {
          "base_uri": "https://localhost:8080/"
        },
        "id": "A_2XN-G7-gVQ",
        "outputId": "f358e3df-cf56-4610-d264-36c6c6623cb3"
      },
      "execution_count": null,
      "outputs": [
        {
          "output_type": "execute_result",
          "data": {
            "text/plain": [
              "array([0, 1])"
            ]
          },
          "metadata": {},
          "execution_count": 12
        }
      ]
    },
    {
      "cell_type": "code",
      "source": [
        "df['arrival_date_year'].unique(\t)"
      ],
      "metadata": {
        "colab": {
          "base_uri": "https://localhost:8080/"
        },
        "id": "Z_0IFRhh-gG3",
        "outputId": "220f2fec-c79a-4c62-ad80-25158c2e4904"
      },
      "execution_count": null,
      "outputs": [
        {
          "output_type": "execute_result",
          "data": {
            "text/plain": [
              "array([2015, 2016, 2017])"
            ]
          },
          "metadata": {},
          "execution_count": 13
        }
      ]
    },
    {
      "cell_type": "code",
      "source": [
        "df['meal'].unique(\t)"
      ],
      "metadata": {
        "colab": {
          "base_uri": "https://localhost:8080/"
        },
        "id": "NtYjS_PF-f2f",
        "outputId": "0f846908-d0ff-4883-eba0-477251928190"
      },
      "execution_count": null,
      "outputs": [
        {
          "output_type": "execute_result",
          "data": {
            "text/plain": [
              "array(['BB', 'FB', 'HB', 'SC', 'Undefined'], dtype=object)"
            ]
          },
          "metadata": {},
          "execution_count": 14
        }
      ]
    },
    {
      "cell_type": "code",
      "source": [
        "df['country'].unique(\t)"
      ],
      "metadata": {
        "colab": {
          "base_uri": "https://localhost:8080/"
        },
        "id": "sgoXIapL-fgB",
        "outputId": "4d7d52f3-b940-4bfd-fc40-b47c0337e8db"
      },
      "execution_count": null,
      "outputs": [
        {
          "output_type": "execute_result",
          "data": {
            "text/plain": [
              "array(['PRT', 'GBR', 'USA', 'ESP', 'IRL', 'FRA', nan, 'ROU', 'NOR', 'OMN',\n",
              "       'ARG', 'POL', 'DEU', 'BEL', 'CHE', 'CN', 'GRC', 'ITA', 'NLD',\n",
              "       'DNK', 'RUS', 'SWE', 'AUS', 'EST', 'CZE', 'BRA', 'FIN', 'MOZ',\n",
              "       'BWA', 'LUX', 'SVN', 'ALB', 'IND', 'CHN', 'MEX', 'MAR', 'UKR',\n",
              "       'SMR', 'LVA', 'PRI', 'SRB', 'CHL', 'AUT', 'BLR', 'LTU', 'TUR',\n",
              "       'ZAF', 'AGO', 'ISR', 'CYM', 'ZMB', 'CPV', 'ZWE', 'DZA', 'KOR',\n",
              "       'CRI', 'HUN', 'ARE', 'TUN', 'JAM', 'HRV', 'HKG', 'IRN', 'GEO',\n",
              "       'AND', 'GIB', 'URY', 'JEY', 'CAF', 'CYP', 'COL', 'GGY', 'KWT',\n",
              "       'NGA', 'MDV', 'VEN', 'SVK', 'FJI', 'KAZ', 'PAK', 'IDN', 'LBN',\n",
              "       'PHL', 'SEN', 'SYC', 'AZE', 'BHR', 'NZL', 'THA', 'DOM', 'MKD',\n",
              "       'MYS', 'ARM', 'JPN', 'LKA', 'CUB', 'CMR', 'BIH', 'MUS', 'COM',\n",
              "       'SUR', 'UGA', 'BGR', 'CIV', 'JOR', 'SYR', 'SGP', 'BDI', 'SAU',\n",
              "       'VNM', 'PLW', 'QAT', 'EGY', 'PER', 'MLT', 'MWI', 'ECU', 'MDG',\n",
              "       'ISL', 'UZB', 'NPL', 'BHS', 'MAC', 'TGO', 'TWN', 'DJI', 'STP',\n",
              "       'KNA', 'ETH', 'IRQ', 'HND', 'RWA', 'KHM', 'MCO', 'BGD', 'IMN',\n",
              "       'TJK', 'NIC', 'BEN', 'VGB', 'TZA', 'GAB', 'GHA', 'TMP', 'GLP',\n",
              "       'KEN', 'LIE', 'GNB', 'MNE', 'UMI', 'MYT', 'FRO', 'MMR', 'PAN',\n",
              "       'BFA', 'LBY', 'MLI', 'NAM', 'BOL', 'PRY', 'BRB', 'ABW', 'AIA',\n",
              "       'SLV', 'DMA', 'PYF', 'GUY', 'LCA', 'ATA', 'GTM', 'ASM', 'MRT',\n",
              "       'NCL', 'KIR', 'SDN', 'ATF', 'SLE', 'LAO'], dtype=object)"
            ]
          },
          "metadata": {},
          "execution_count": 15
        }
      ]
    },
    {
      "cell_type": "code",
      "source": [
        "df['market_segment'].unique()"
      ],
      "metadata": {
        "colab": {
          "base_uri": "https://localhost:8080/"
        },
        "id": "-sNI3eTGDis0",
        "outputId": "59416dc7-48f9-45cf-cbcc-b139b4a63c96"
      },
      "execution_count": null,
      "outputs": [
        {
          "output_type": "execute_result",
          "data": {
            "text/plain": [
              "array(['Direct', 'Corporate', 'Online TA', 'Offline TA/TO',\n",
              "       'Complementary', 'Groups', 'Undefined', 'Aviation'], dtype=object)"
            ]
          },
          "metadata": {},
          "execution_count": 16
        }
      ]
    },
    {
      "cell_type": "code",
      "source": [
        "df['distribution_channel'].unique()"
      ],
      "metadata": {
        "colab": {
          "base_uri": "https://localhost:8080/"
        },
        "id": "GK77Cs0vDinQ",
        "outputId": "0204cd87-3f5a-43a9-d179-2a4cc0bbc1bf"
      },
      "execution_count": null,
      "outputs": [
        {
          "output_type": "execute_result",
          "data": {
            "text/plain": [
              "array(['Direct', 'Corporate', 'TA/TO', 'Undefined', 'GDS'], dtype=object)"
            ]
          },
          "metadata": {},
          "execution_count": 17
        }
      ]
    },
    {
      "cell_type": "code",
      "source": [
        "df['customer_type'].unique()"
      ],
      "metadata": {
        "colab": {
          "base_uri": "https://localhost:8080/"
        },
        "id": "bT7yhPWpDihf",
        "outputId": "88786d23-db08-41f6-ad39-ac6ba2a2961d"
      },
      "execution_count": null,
      "outputs": [
        {
          "output_type": "execute_result",
          "data": {
            "text/plain": [
              "array(['Transient', 'Contract', 'Transient-Party', 'Group'], dtype=object)"
            ]
          },
          "metadata": {},
          "execution_count": 18
        }
      ]
    },
    {
      "cell_type": "code",
      "source": [],
      "metadata": {
        "id": "7zrqXuE-Dibr"
      },
      "execution_count": null,
      "outputs": []
    },
    {
      "cell_type": "markdown",
      "source": [
        "#  Data Cleaning\n",
        "Cleaning data is the very important step before EDA as it will remove the ambigous data that can affect the outcome of EDA.\n",
        "\n",
        "While cleaning data we will perform following steps: \n",
        "1. Remove duplicate rows   \n",
        "2. Handling missing values.\n",
        "3. Convert columns to appropriate datatypes. \n",
        "4.Adding important columns\n",
        "\n",
        "\n",
        "\n"
      ],
      "metadata": {
        "id": "RHY7122nNoHz"
      }
    },
    {
      "cell_type": "code",
      "source": [
        "df.isna().any()"
      ],
      "metadata": {
        "colab": {
          "base_uri": "https://localhost:8080/"
        },
        "id": "5iv3ievdDiOO",
        "outputId": "667ac99b-dbb5-443c-b4a5-6b21c5d9f73c"
      },
      "execution_count": null,
      "outputs": [
        {
          "output_type": "execute_result",
          "data": {
            "text/plain": [
              "hotel                             False\n",
              "is_canceled                       False\n",
              "lead_time                         False\n",
              "arrival_date_year                 False\n",
              "arrival_date_month                False\n",
              "arrival_date_week_number          False\n",
              "arrival_date_day_of_month         False\n",
              "stays_in_weekend_nights           False\n",
              "stays_in_week_nights              False\n",
              "adults                            False\n",
              "children                           True\n",
              "babies                            False\n",
              "meal                              False\n",
              "country                            True\n",
              "market_segment                    False\n",
              "distribution_channel              False\n",
              "is_repeated_guest                 False\n",
              "previous_cancellations            False\n",
              "previous_bookings_not_canceled    False\n",
              "reserved_room_type                False\n",
              "assigned_room_type                False\n",
              "booking_changes                   False\n",
              "deposit_type                      False\n",
              "agent                              True\n",
              "company                            True\n",
              "days_in_waiting_list              False\n",
              "customer_type                     False\n",
              "adr                               False\n",
              "required_car_parking_spaces       False\n",
              "total_of_special_requests         False\n",
              "reservation_status                False\n",
              "reservation_status_date           False\n",
              "dtype: bool"
            ]
          },
          "metadata": {},
          "execution_count": 19
        }
      ]
    },
    {
      "cell_type": "markdown",
      "source": [
        "We can see there are four columns where the null values are present."
      ],
      "metadata": {
        "id": "5ccEV7dErp2L"
      }
    },
    {
      "cell_type": "code",
      "source": [
        "# No of null values present in the respective four columns.\n",
        "print(df.isnull().sum().sort_values(ascending=False))"
      ],
      "metadata": {
        "colab": {
          "base_uri": "https://localhost:8080/"
        },
        "id": "JdezJhQ6DiGV",
        "outputId": "76b903ec-bc8c-4418-b342-fca2ffd848bf"
      },
      "execution_count": null,
      "outputs": [
        {
          "output_type": "stream",
          "name": "stdout",
          "text": [
            "company                           112593\n",
            "agent                              16340\n",
            "country                              488\n",
            "children                               4\n",
            "reserved_room_type                     0\n",
            "assigned_room_type                     0\n",
            "booking_changes                        0\n",
            "deposit_type                           0\n",
            "hotel                                  0\n",
            "previous_cancellations                 0\n",
            "days_in_waiting_list                   0\n",
            "customer_type                          0\n",
            "adr                                    0\n",
            "required_car_parking_spaces            0\n",
            "total_of_special_requests              0\n",
            "reservation_status                     0\n",
            "previous_bookings_not_canceled         0\n",
            "is_repeated_guest                      0\n",
            "is_canceled                            0\n",
            "distribution_channel                   0\n",
            "market_segment                         0\n",
            "meal                                   0\n",
            "babies                                 0\n",
            "adults                                 0\n",
            "stays_in_week_nights                   0\n",
            "stays_in_weekend_nights                0\n",
            "arrival_date_day_of_month              0\n",
            "arrival_date_week_number               0\n",
            "arrival_date_month                     0\n",
            "arrival_date_year                      0\n",
            "lead_time                              0\n",
            "reservation_status_date                0\n",
            "dtype: int64\n"
          ]
        }
      ]
    },
    {
      "cell_type": "markdown",
      "source": [
        "We can see company and agent columns have company numbers and agent numbers as data. These columns contains some null values.\n",
        "\n",
        "This is possible when the customer didn't book the hotel via any agent or company. So in that case values can be null under these columns. In that case, we will replace null values with 0 in these columns.\n",
        "\n"
      ],
      "metadata": {
        "id": "jOuHOZeCXuMr"
      }
    },
    {
      "cell_type": "markdown",
      "source": [
        "# Replacing Missing Values."
      ],
      "metadata": {
        "id": "pfPb9UwBmuuf"
      }
    },
    {
      "cell_type": "code",
      "source": [
        "#Replacing null values by 0.\n",
        "df[['company','agent']] = df[['company','agent']].fillna(0)"
      ],
      "metadata": {
        "id": "svCYOixnDh0C"
      },
      "execution_count": null,
      "outputs": []
    },
    {
      "cell_type": "code",
      "source": [
        "df['children'].unique()"
      ],
      "metadata": {
        "colab": {
          "base_uri": "https://localhost:8080/"
        },
        "id": "NDKQ2jlbDhmZ",
        "outputId": "8331ab19-658c-4b47-d79f-ba42566b6df8"
      },
      "execution_count": null,
      "outputs": [
        {
          "output_type": "execute_result",
          "data": {
            "text/plain": [
              "array([ 0.,  1.,  2., 10.,  3., nan])"
            ]
          },
          "metadata": {},
          "execution_count": 22
        }
      ]
    },
    {
      "cell_type": "markdown",
      "source": [
        "We see that 'nan' values are the missing values which are present in the children column. We will replace the null values under this column with mean value of childrens."
      ],
      "metadata": {
        "id": "ZG7haovGafk3"
      }
    },
    {
      "cell_type": "code",
      "source": [
        "#Replacing 'nan' values by mean value.\n",
        "df['children'].fillna(df['children'].mean(), inplace = True)"
      ],
      "metadata": {
        "id": "2izBCqovDhVN"
      },
      "execution_count": null,
      "outputs": []
    },
    {
      "cell_type": "markdown",
      "source": [
        " We see that country column also contains some missing values. We will replace the missing value with 'others' country."
      ],
      "metadata": {
        "id": "uSa5ZBgWcX-_"
      }
    },
    {
      "cell_type": "code",
      "source": [
        "df['country'].fillna('others', inplace = True)\n"
      ],
      "metadata": {
        "id": "3g43kPuTb7VD"
      },
      "execution_count": null,
      "outputs": []
    },
    {
      "cell_type": "code",
      "source": [
        "print(df.isnull().sum().sort_values(ascending=False))"
      ],
      "metadata": {
        "id": "z1nQHWwfb7nR",
        "colab": {
          "base_uri": "https://localhost:8080/"
        },
        "outputId": "c0285058-15f1-48f4-e20c-807660137fad"
      },
      "execution_count": null,
      "outputs": [
        {
          "output_type": "stream",
          "name": "stdout",
          "text": [
            "hotel                             0\n",
            "is_canceled                       0\n",
            "reservation_status                0\n",
            "total_of_special_requests         0\n",
            "required_car_parking_spaces       0\n",
            "adr                               0\n",
            "customer_type                     0\n",
            "days_in_waiting_list              0\n",
            "company                           0\n",
            "agent                             0\n",
            "deposit_type                      0\n",
            "booking_changes                   0\n",
            "assigned_room_type                0\n",
            "reserved_room_type                0\n",
            "previous_bookings_not_canceled    0\n",
            "previous_cancellations            0\n",
            "is_repeated_guest                 0\n",
            "distribution_channel              0\n",
            "market_segment                    0\n",
            "country                           0\n",
            "meal                              0\n",
            "babies                            0\n",
            "children                          0\n",
            "adults                            0\n",
            "stays_in_week_nights              0\n",
            "stays_in_weekend_nights           0\n",
            "arrival_date_day_of_month         0\n",
            "arrival_date_week_number          0\n",
            "arrival_date_month                0\n",
            "arrival_date_year                 0\n",
            "lead_time                         0\n",
            "reservation_status_date           0\n",
            "dtype: int64\n"
          ]
        }
      ]
    },
    {
      "cell_type": "markdown",
      "source": [
        "Now we can see all the missing values are replaced."
      ],
      "metadata": {
        "id": "8eUvIXcWo6-L"
      }
    },
    {
      "cell_type": "markdown",
      "source": [
        "# Removing Duplicate Rows"
      ],
      "metadata": {
        "id": "f7ivfiwvpKfB"
      }
    },
    {
      "cell_type": "code",
      "source": [
        "df.duplicated().value_counts()"
      ],
      "metadata": {
        "id": "C8XNC1Z5UjwC",
        "colab": {
          "base_uri": "https://localhost:8080/"
        },
        "outputId": "88ea3efe-5d87-4832-c4dc-520afefa812d"
      },
      "execution_count": null,
      "outputs": [
        {
          "output_type": "execute_result",
          "data": {
            "text/plain": [
              "False    87396\n",
              "True     31994\n",
              "dtype: int64"
            ]
          },
          "metadata": {},
          "execution_count": 26
        }
      ]
    },
    {
      "cell_type": "markdown",
      "source": [
        "We can see there are 31994 duplicate rows in the dataset."
      ],
      "metadata": {
        "id": "hEJhSPGxp1vR"
      }
    },
    {
      "cell_type": "code",
      "source": [
        "# removing duplicate rows\n",
        "df.drop_duplicates(inplace = True)"
      ],
      "metadata": {
        "id": "fSnZEvZRb71k"
      },
      "execution_count": null,
      "outputs": []
    },
    {
      "cell_type": "code",
      "source": [
        "df.shape"
      ],
      "metadata": {
        "id": "ynKTYVKIb8Em",
        "colab": {
          "base_uri": "https://localhost:8080/"
        },
        "outputId": "89cab4a4-163e-4570-bfaf-073174f55c20"
      },
      "execution_count": null,
      "outputs": [
        {
          "output_type": "execute_result",
          "data": {
            "text/plain": [
              "(87396, 32)"
            ]
          },
          "metadata": {},
          "execution_count": 28
        }
      ]
    },
    {
      "cell_type": "markdown",
      "source": [
        "We can see all the duplicate rows are removed."
      ],
      "metadata": {
        "id": "c86hLihwrBsQ"
      }
    },
    {
      "cell_type": "code",
      "source": [
        "df[df['adults']+df['babies']+df['children'] == 0].shape"
      ],
      "metadata": {
        "id": "_i97N8pPTGzQ",
        "colab": {
          "base_uri": "https://localhost:8080/"
        },
        "outputId": "03a7f2d5-7c00-4a66-cf26-f00b3784a766"
      },
      "execution_count": null,
      "outputs": [
        {
          "output_type": "execute_result",
          "data": {
            "text/plain": [
              "(166, 32)"
            ]
          },
          "metadata": {},
          "execution_count": 29
        }
      ]
    },
    {
      "cell_type": "markdown",
      "source": [
        "We observe that there are 166 rows where the sum of no of children, no of adults, and no of babies are 0. This does not make any sense.\n"
      ],
      "metadata": {
        "id": "KrSSsDoGtnyW"
      }
    },
    {
      "cell_type": "code",
      "source": [
        "#Removing ambigous rows.\n",
        "df.drop(df[df['adults']+df['babies']+df['children'] == 0].index,inplace=True)\n"
      ],
      "metadata": {
        "id": "zoNeP2ymoC0-"
      },
      "execution_count": null,
      "outputs": []
    },
    {
      "cell_type": "markdown",
      "source": [
        "# Converting to appropriate datatypes."
      ],
      "metadata": {
        "id": "DkDn0y8Xw3C7"
      }
    },
    {
      "cell_type": "code",
      "source": [
        "df.dtypes"
      ],
      "metadata": {
        "colab": {
          "base_uri": "https://localhost:8080/"
        },
        "id": "nFb0vrbzoC8d",
        "outputId": "da3ffda2-7268-4a67-f40a-3ed0d24ae01d"
      },
      "execution_count": null,
      "outputs": [
        {
          "output_type": "execute_result",
          "data": {
            "text/plain": [
              "hotel                              object\n",
              "is_canceled                         int64\n",
              "lead_time                           int64\n",
              "arrival_date_year                   int64\n",
              "arrival_date_month                 object\n",
              "arrival_date_week_number            int64\n",
              "arrival_date_day_of_month           int64\n",
              "stays_in_weekend_nights             int64\n",
              "stays_in_week_nights                int64\n",
              "adults                              int64\n",
              "children                          float64\n",
              "babies                              int64\n",
              "meal                               object\n",
              "country                            object\n",
              "market_segment                     object\n",
              "distribution_channel               object\n",
              "is_repeated_guest                   int64\n",
              "previous_cancellations              int64\n",
              "previous_bookings_not_canceled      int64\n",
              "reserved_room_type                 object\n",
              "assigned_room_type                 object\n",
              "booking_changes                     int64\n",
              "deposit_type                       object\n",
              "agent                             float64\n",
              "company                           float64\n",
              "days_in_waiting_list                int64\n",
              "customer_type                      object\n",
              "adr                               float64\n",
              "required_car_parking_spaces         int64\n",
              "total_of_special_requests           int64\n",
              "reservation_status                 object\n",
              "reservation_status_date            object\n",
              "dtype: object"
            ]
          },
          "metadata": {},
          "execution_count": 31
        }
      ]
    },
    {
      "cell_type": "code",
      "source": [
        "# Conversion of datatypes  from float to int.\n",
        "df[['children', 'company', 'agent']] = df[['children', 'company', 'agent']].astype('int64')"
      ],
      "metadata": {
        "id": "6AsXSbfwoDEM"
      },
      "execution_count": null,
      "outputs": []
    },
    {
      "cell_type": "code",
      "source": [
        "df[['children', 'company', 'agent']].dtypes"
      ],
      "metadata": {
        "colab": {
          "base_uri": "https://localhost:8080/"
        },
        "id": "aFCnkPbaoDJk",
        "outputId": "14cd82e9-dde6-48f5-e14b-c9542e4cd7ea"
      },
      "execution_count": null,
      "outputs": [
        {
          "output_type": "execute_result",
          "data": {
            "text/plain": [
              "children    int64\n",
              "company     int64\n",
              "agent       int64\n",
              "dtype: object"
            ]
          },
          "metadata": {},
          "execution_count": 33
        }
      ]
    },
    {
      "cell_type": "code",
      "source": [
        "# Conversion of datatypes  from 'object' to 'datetime'\n",
        "df['reservation_status_date'] = pd.to_datetime(df['reservation_status_date'], format = '%Y-%m-%d')\n",
        "df['reservation_status_date']"
      ],
      "metadata": {
        "colab": {
          "base_uri": "https://localhost:8080/"
        },
        "id": "wGB42sOYoDOx",
        "outputId": "cb74c162-4604-44af-bd34-30160825ca10"
      },
      "execution_count": null,
      "outputs": [
        {
          "output_type": "execute_result",
          "data": {
            "text/plain": [
              "0        2015-07-01\n",
              "1        2015-07-01\n",
              "2        2015-07-02\n",
              "3        2015-07-02\n",
              "4        2015-07-03\n",
              "            ...    \n",
              "119385   2017-09-06\n",
              "119386   2017-09-07\n",
              "119387   2017-09-07\n",
              "119388   2017-09-07\n",
              "119389   2017-09-07\n",
              "Name: reservation_status_date, Length: 87230, dtype: datetime64[ns]"
            ]
          },
          "metadata": {},
          "execution_count": 34
        }
      ]
    },
    {
      "cell_type": "markdown",
      "source": [
        "## Adding some important columns."
      ],
      "metadata": {
        "id": "ZsuLdvVYhg66"
      }
    },
    {
      "cell_type": "code",
      "source": [
        "df['total_nights_stay'] = df['stays_in_weekend_nights']+df['stays_in_week_nights']"
      ],
      "metadata": {
        "id": "sgE0eEbf4IKu"
      },
      "execution_count": null,
      "outputs": []
    },
    {
      "cell_type": "code",
      "source": [
        "df.shape"
      ],
      "metadata": {
        "colab": {
          "base_uri": "https://localhost:8080/"
        },
        "id": "ZEauQJlEkpv_",
        "outputId": "1e5a5514-9711-48e2-cf3f-8377981c741b"
      },
      "execution_count": null,
      "outputs": [
        {
          "output_type": "execute_result",
          "data": {
            "text/plain": [
              "(87230, 33)"
            ]
          },
          "metadata": {},
          "execution_count": 37
        }
      ]
    },
    {
      "cell_type": "code",
      "source": [
        "#Total no of peoples = adults+children+babies.\n",
        "df['total_people_stay'] = df['adults']+df['children']+df['babies']"
      ],
      "metadata": {
        "id": "CAGHKWCikp1d"
      },
      "execution_count": null,
      "outputs": []
    },
    {
      "cell_type": "code",
      "source": [
        "df.shape"
      ],
      "metadata": {
        "colab": {
          "base_uri": "https://localhost:8080/"
        },
        "id": "TpyL2e6xPbRU",
        "outputId": "4deb99eb-cd05-48c2-abeb-256da8a8a52c"
      },
      "execution_count": null,
      "outputs": [
        {
          "output_type": "execute_result",
          "data": {
            "text/plain": [
              "(87230, 35)"
            ]
          },
          "metadata": {},
          "execution_count": 55
        }
      ]
    },
    {
      "cell_type": "markdown",
      "source": [
        "# **EDA**\n",
        "\n",
        "Exploratory data analysis is used by data scientists to analyze and investigate data sets and summarize their main characteristics, often employing data visualization methods.  \n",
        "\n",
        "EDA is primarily used to see what data can reveal beyond the formal modeling or hypothesis testing task and provides a better understanding of data set variables and the relationships between them.  "
      ],
      "metadata": {
        "id": "jAzn1qu6_CX8"
      }
    },
    {
      "cell_type": "markdown",
      "source": [
        "# Univariate Analysis"
      ],
      "metadata": {
        "id": "y5affwPvPzL5"
      }
    },
    {
      "cell_type": "markdown",
      "source": [
        "# Which type of hotel is mostly preferred? "
      ],
      "metadata": {
        "id": "f6faHvLOP9J4"
      }
    },
    {
      "cell_type": "code",
      "source": [
        "df['hotel'].value_counts().plot.pie(explode=[0.05, 0.05], autopct='%1.1f%%', shadow=True, figsize=(10,8),fontsize=20)   \n",
        "plt.title('Pie Chart for Most Preferred  Hotel')"
      ],
      "metadata": {
        "colab": {
          "base_uri": "https://localhost:8080/",
          "height": 500
        },
        "id": "vNmP1-CdkqVU",
        "outputId": "c64e306c-c76f-49c2-d794-0370933775d9"
      },
      "execution_count": null,
      "outputs": [
        {
          "output_type": "execute_result",
          "data": {
            "text/plain": [
              "Text(0.5, 1.0, 'Pie Chart for Most Preferred  Hotel')"
            ]
          },
          "metadata": {},
          "execution_count": 83
        },
        {
          "output_type": "display_data",
          "data": {
            "text/plain": [
              "<Figure size 720x576 with 1 Axes>"
            ],
            "image/png": "[encoded data removed]"
          },
          "metadata": {}
        }
      ]
    },
    {
      "cell_type": "markdown",
      "source": [
        "We can see that City Hotels are more preferred."
      ],
      "metadata": {
        "id": "Ppyw5HHj0xEF"
      }
    },
    {
      "cell_type": "markdown",
      "source": [
        "## Which type of meal is mostly preferred?"
      ],
      "metadata": {
        "id": "hqdn2WIkWWQn"
      }
    },
    {
      "cell_type": "code",
      "source": [
        "df['meal'].value_counts()"
      ],
      "metadata": {
        "colab": {
          "base_uri": "https://localhost:8080/"
        },
        "id": "Myoty48tecFr",
        "outputId": "af6b8ce2-09ef-46ef-80af-8d4d61eccfa3"
      },
      "execution_count": null,
      "outputs": [
        {
          "output_type": "execute_result",
          "data": {
            "text/plain": [
              "BB           67907\n",
              "SC            9391\n",
              "HB            9080\n",
              "Undefined      492\n",
              "FB             360\n",
              "Name: meal, dtype: int64"
            ]
          },
          "metadata": {},
          "execution_count": 73
        }
      ]
    },
    {
      "cell_type": "code",
      "source": [
        "df['meal'].value_counts().plot.pie(explode=[0.05, 0.05,0.05,0.05,0.05],autopct='%1.1f%%', shadow=False, figsize=(15,8),fontsize=20)"
      ],
      "metadata": {
        "colab": {
          "base_uri": "https://localhost:8080/",
          "height": 484
        },
        "id": "y1tvusREbsNw",
        "outputId": "8200cc45-c8aa-4767-8ac0-8d19c95262f5"
      },
      "execution_count": null,
      "outputs": [
        {
          "output_type": "execute_result",
          "data": {
            "text/plain": [
              "<matplotlib.axes._subplots.AxesSubplot at 0x7f9ea0305e10>"
            ]
          },
          "metadata": {},
          "execution_count": 215
        },
        {
          "output_type": "display_data",
          "data": {
            "text/plain": [
              "<Figure size 1080x576 with 1 Axes>"
            ],
            "image/png": "[encoded data removed]"
          },
          "metadata": {}
        }
      ]
    },
    {
      "cell_type": "markdown",
      "source": [
        "# Which types of hotel makes more revenue?"
      ],
      "metadata": {
        "id": "ClBGT9LC0SqE"
      }
    },
    {
      "cell_type": "code",
      "source": [
        "df.groupby(['hotel'])['adr'].value_counts()"
      ],
      "metadata": {
        "colab": {
          "base_uri": "https://localhost:8080/"
        },
        "id": "TkhHLhTXb289",
        "outputId": "afd18612-026c-4c7a-b88c-b404c9981e5a"
      },
      "execution_count": null,
      "outputs": [
        {
          "output_type": "execute_result",
          "data": {
            "text/plain": [
              "hotel         adr   \n",
              "City Hotel    75.00     1001\n",
              "              65.00      968\n",
              "              0.00       953\n",
              "              95.00      705\n",
              "              90.00      624\n",
              "                        ... \n",
              "Resort Hotel  402.00       1\n",
              "              426.25       1\n",
              "              437.00       1\n",
              "              450.00       1\n",
              "              508.00       1\n",
              "Name: adr, Length: 11271, dtype: int64"
            ]
          },
          "metadata": {},
          "execution_count": 108
        }
      ]
    },
    {
      "cell_type": "code",
      "source": [
        "sns.barplot( y='adr',  x='hotel', data = df)\n",
        "plt.title('Most revenue making hotel')\n"
      ],
      "metadata": {
        "colab": {
          "base_uri": "https://localhost:8080/",
          "height": 313
        },
        "id": "s04YybNt22sx",
        "outputId": "ba1c661e-eaea-4493-fce1-4cdff68e5910"
      },
      "execution_count": null,
      "outputs": [
        {
          "output_type": "execute_result",
          "data": {
            "text/plain": [
              "Text(0.5, 1.0, 'Most revenue making hotel')"
            ]
          },
          "metadata": {},
          "execution_count": 112
        },
        {
          "output_type": "display_data",
          "data": {
            "text/plain": [
              "<Figure size 432x288 with 1 Axes>"
            ],
            "image/png": "[encoded data removed]"
          },
          "metadata": {
            "needs_background": "light"
          }
        }
      ]
    },
    {
      "cell_type": "markdown",
      "source": [
        "We can see City Hotel makes more revenue."
      ],
      "metadata": {
        "id": "RIO2BTZjCVgx"
      }
    },
    {
      "cell_type": "markdown",
      "source": [
        "## Which types of rooms are most reserved? "
      ],
      "metadata": {
        "id": "xyubYgF-Cg5S"
      }
    },
    {
      "cell_type": "code",
      "source": [
        "df['reserved_room_type'].value_counts()"
      ],
      "metadata": {
        "colab": {
          "base_uri": "https://localhost:8080/"
        },
        "id": "tirOiOetCcpj",
        "outputId": "af828aea-2f1d-4551-cdea-a228e2533775"
      },
      "execution_count": null,
      "outputs": [
        {
          "output_type": "execute_result",
          "data": {
            "text/plain": [
              "A    56436\n",
              "D    17376\n",
              "E     6036\n",
              "F     2820\n",
              "G     2050\n",
              "B      996\n",
              "C      914\n",
              "H      596\n",
              "L        6\n",
              "Name: reserved_room_type, dtype: int64"
            ]
          },
          "metadata": {},
          "execution_count": 113
        }
      ]
    },
    {
      "cell_type": "code",
      "source": [
        "sns.countplot(df['reserved_room_type'])\n",
        "plt.show()"
      ],
      "metadata": {
        "colab": {
          "base_uri": "https://localhost:8080/",
          "height": 336
        },
        "id": "NGcOYD46EaDH",
        "outputId": "f09e21ea-7229-495f-a024-5d6d021a2f0c"
      },
      "execution_count": null,
      "outputs": [
        {
          "output_type": "stream",
          "name": "stderr",
          "text": [
            "/usr/local/lib/python3.7/dist-packages/seaborn/_decorators.py:43: FutureWarning: Pass the following variable as a keyword arg: x. From version 0.12, the only valid positional argument will be `data`, and passing other arguments without an explicit keyword will result in an error or misinterpretation.\n",
            "  FutureWarning\n"
          ]
        },
        {
          "output_type": "display_data",
          "data": {
            "text/plain": [
              "<Figure size 432x288 with 1 Axes>"
            ],
            "image/png": "[encoded data removed]"
          },
          "metadata": {
            "needs_background": "light"
          }
        }
      ]
    },
    {
      "cell_type": "markdown",
      "source": [
        "We can see room type A has most reserved."
      ],
      "metadata": {
        "id": "Fiqhh8bkyYIB"
      }
    },
    {
      "cell_type": "markdown",
      "source": [
        "# Which types of hotel has higher booking cancelation rate?"
      ],
      "metadata": {
        "id": "gaYlQlKOGeoE"
      }
    },
    {
      "cell_type": "code",
      "source": [
        "sns.barplot( y='is_canceled',  x='hotel', data = df)"
      ],
      "metadata": {
        "colab": {
          "base_uri": "https://localhost:8080/",
          "height": 297
        },
        "id": "A56d_4wpK3n9",
        "outputId": "4959a1d1-8bf8-47ca-a6dd-655586ea8055"
      },
      "execution_count": null,
      "outputs": [
        {
          "output_type": "execute_result",
          "data": {
            "text/plain": [
              "<matplotlib.axes._subplots.AxesSubplot at 0x7f9ea0420a90>"
            ]
          },
          "metadata": {},
          "execution_count": 125
        },
        {
          "output_type": "display_data",
          "data": {
            "text/plain": [
              "<Figure size 432x288 with 1 Axes>"
            ],
            "image/png": "[encoded data removed]"
          },
          "metadata": {
            "needs_background": "light"
          }
        }
      ]
    },
    {
      "cell_type": "markdown",
      "source": [
        "So, City Hotel has the higher cancelation rate."
      ],
      "metadata": {
        "id": "_Y5LfBuELWps"
      }
    },
    {
      "cell_type": "markdown",
      "source": [
        "# Which is the most common channel for booking hotels?"
      ],
      "metadata": {
        "id": "UgNLkJxWJDQs"
      }
    },
    {
      "cell_type": "code",
      "source": [
        "sns.countplot(df['distribution_channel'])\n",
        "plt.title('Most common distribution channel')\n",
        "plt.show()"
      ],
      "metadata": {
        "colab": {
          "base_uri": "https://localhost:8080/",
          "height": 352
        },
        "id": "FG5gjimcJCDl",
        "outputId": "98678b0d-125e-460e-8d51-fa6758cff683"
      },
      "execution_count": null,
      "outputs": [
        {
          "output_type": "stream",
          "name": "stderr",
          "text": [
            "/usr/local/lib/python3.7/dist-packages/seaborn/_decorators.py:43: FutureWarning: Pass the following variable as a keyword arg: x. From version 0.12, the only valid positional argument will be `data`, and passing other arguments without an explicit keyword will result in an error or misinterpretation.\n",
            "  FutureWarning\n"
          ]
        },
        {
          "output_type": "display_data",
          "data": {
            "text/plain": [
              "<Figure size 432x288 with 1 Axes>"
            ],
            "image/png": "[encoded data removed]"
          },
          "metadata": {
            "needs_background": "light"
          }
        }
      ]
    },
    {
      "cell_type": "markdown",
      "source": [
        "We see that TA/TO is the most common distribution channel."
      ],
      "metadata": {
        "id": "JfWNn7yEJ4LQ"
      }
    },
    {
      "cell_type": "markdown",
      "source": [
        "## From which country most of the peoples are coming in the hotel?"
      ],
      "metadata": {
        "id": "QFh-bv39Tw7o"
      }
    },
    {
      "cell_type": "code",
      "source": [
        "df['country'].value_counts()[:10]"
      ],
      "metadata": {
        "colab": {
          "base_uri": "https://localhost:8080/"
        },
        "id": "1wdYYHu_MEBS",
        "outputId": "fb43df87-4330-4a59-d374-83cc3b0241cf"
      },
      "execution_count": null,
      "outputs": [
        {
          "output_type": "execute_result",
          "data": {
            "text/plain": [
              "PRT    27355\n",
              "GBR    10424\n",
              "FRA     8823\n",
              "ESP     7244\n",
              "DEU     5385\n",
              "ITA     3061\n",
              "IRL     3015\n",
              "BEL     2081\n",
              "BRA     1993\n",
              "NLD     1910\n",
              "Name: country, dtype: int64"
            ]
          },
          "metadata": {},
          "execution_count": 141
        }
      ]
    },
    {
      "cell_type": "code",
      "source": [
        "plt.figure(figsize=(10,5))\n",
        "df['country'].value_counts()[:10] .plot.bar()\n",
        "plt.show()"
      ],
      "metadata": {
        "colab": {
          "base_uri": "https://localhost:8080/",
          "height": 331
        },
        "id": "1H14hIydKEWM",
        "outputId": "0a2d22ef-e60e-46b4-a460-2e237dc3e7c3"
      },
      "execution_count": null,
      "outputs": [
        {
          "output_type": "display_data",
          "data": {
            "text/plain": [
              "<Figure size 720x360 with 1 Axes>"
            ],
            "image/png": "[encoded data removed]"
          },
          "metadata": {
            "needs_background": "light"
          }
        }
      ]
    },
    {
      "cell_type": "markdown",
      "source": [
        "We see that most of the customers are come from Portugal, Great Britain, France and Spain."
      ],
      "metadata": {
        "id": "lPZ9BpakZg4k"
      }
    },
    {
      "cell_type": "markdown",
      "source": [
        "## In which month most of the peoples arrive in the hotel?"
      ],
      "metadata": {
        "id": "EPIBowiBt-AE"
      }
    },
    {
      "cell_type": "code",
      "source": [
        "df1=df.groupby(['arrival_date_month','hotel']).size().unstack()\n",
        "\n",
        "df1.plot(kind='bar')"
      ],
      "metadata": {
        "colab": {
          "base_uri": "https://localhost:8080/",
          "height": 343
        },
        "id": "tit7R3K5MEsb",
        "outputId": "53549010-8fa9-4c59-ba3e-bf8318e05fae"
      },
      "execution_count": null,
      "outputs": [
        {
          "output_type": "execute_result",
          "data": {
            "text/plain": [
              "<matplotlib.axes._subplots.AxesSubplot at 0x7f9ea11df810>"
            ]
          },
          "metadata": {},
          "execution_count": 201
        },
        {
          "output_type": "display_data",
          "data": {
            "text/plain": [
              "<Figure size 432x288 with 1 Axes>"
            ],
            "image/png": "[encoded data removed]"
          },
          "metadata": {
            "needs_background": "light"
          }
        }
      ]
    },
    {
      "cell_type": "markdown",
      "source": [
        "Most no of peoples arrive in the month of august and city hotel is most prefered than the resort hotel."
      ],
      "metadata": {
        "id": "1EOamtlAukWL"
      }
    },
    {
      "cell_type": "code",
      "source": [
        "df2=df.groupby(['arrival_date_year','hotel']).size().unstack()\n",
        "df2.plot(kind='bar')"
      ],
      "metadata": {
        "colab": {
          "base_uri": "https://localhost:8080/",
          "height": 314
        },
        "id": "o6utn6LxMFwS",
        "outputId": "603592eb-f572-4222-b60e-8ef8766cb67c"
      },
      "execution_count": null,
      "outputs": [
        {
          "output_type": "execute_result",
          "data": {
            "text/plain": [
              "<matplotlib.axes._subplots.AxesSubplot at 0x7f9ea159c9d0>"
            ]
          },
          "metadata": {},
          "execution_count": 207
        },
        {
          "output_type": "display_data",
          "data": {
            "text/plain": [
              "<Figure size 432x288 with 1 Axes>"
            ],
            "image/png": "[encoded data removed]"
          },
          "metadata": {
            "needs_background": "light"
          }
        }
      ]
    },
    {
      "cell_type": "markdown",
      "source": [
        "Most number of peoples arrive in 2016."
      ],
      "metadata": {
        "id": "mwla5FSRx2gy"
      }
    },
    {
      "cell_type": "markdown",
      "source": [
        "## Heatmap "
      ],
      "metadata": {
        "id": "7u9I8_Wy0ATM"
      }
    },
    {
      "cell_type": "code",
      "source": [
        "#Correlation for the dataset.\n",
        "corr_matrix=df.corr()\n",
        "corr_matrix"
      ],
      "metadata": {
        "colab": {
          "base_uri": "https://localhost:8080/",
          "height": 864
        },
        "id": "pHTb7zQsMGA8",
        "outputId": "1edae074-b339-43bf-b74c-bea41e3170af"
      },
      "execution_count": null,
      "outputs": [
        {
          "output_type": "execute_result",
          "data": {
            "text/plain": [
              "                                is_canceled  lead_time  arrival_date_year  \\\n",
              "is_canceled                        1.000000   0.184515           0.088020   \n",
              "lead_time                          0.184515   1.000000           0.139408   \n",
              "arrival_date_year                  0.088020   0.139408           1.000000   \n",
              "arrival_date_week_number           0.001691   0.101295          -0.513895   \n",
              "arrival_date_day_of_month          0.005449   0.009899          -0.009872   \n",
              "stays_in_weekend_nights            0.060992   0.236316           0.005277   \n",
              "stays_in_week_nights               0.084159   0.312506           0.003765   \n",
              "adults                             0.080271   0.139033           0.038744   \n",
              "children                           0.067182   0.028395           0.041178   \n",
              "babies                            -0.020627  -0.003705          -0.023366   \n",
              "is_repeated_guest                 -0.088764  -0.145777           0.024678   \n",
              "previous_cancellations             0.051501   0.005370          -0.054284   \n",
              "previous_bookings_not_canceled    -0.052178  -0.079021           0.027266   \n",
              "booking_changes                   -0.093236   0.080822           0.008944   \n",
              "agent                             -0.001145   0.080007          -0.002138   \n",
              "company                           -0.075314  -0.078938           0.021289   \n",
              "days_in_waiting_list               0.004710   0.131909          -0.027490   \n",
              "adr                                0.127233   0.021948           0.176594   \n",
              "required_car_parking_spaces       -0.184456  -0.086736          -0.040041   \n",
              "total_of_special_requests         -0.120794   0.034048           0.064210   \n",
              "total_nights_stay                  0.085431   0.320914           0.004776   \n",
              "total_people                       0.098987   0.125262           0.050902   \n",
              "total_people_stay                  0.098987   0.125262           0.050902   \n",
              "\n",
              "                                arrival_date_week_number  \\\n",
              "is_canceled                                     0.001691   \n",
              "lead_time                                       0.101295   \n",
              "arrival_date_year                              -0.513895   \n",
              "arrival_date_week_number                        1.000000   \n",
              "arrival_date_day_of_month                       0.093273   \n",
              "stays_in_weekend_nights                         0.027466   \n",
              "stays_in_week_nights                            0.028498   \n",
              "adults                                          0.025322   \n",
              "children                                        0.013542   \n",
              "babies                                          0.014302   \n",
              "is_repeated_guest                              -0.038221   \n",
              "previous_cancellations                          0.007038   \n",
              "previous_bookings_not_canceled                 -0.020938   \n",
              "booking_changes                                 0.012943   \n",
              "agent                                           0.019724   \n",
              "company                                        -0.022852   \n",
              "days_in_waiting_list                            0.013159   \n",
              "adr                                             0.099092   \n",
              "required_car_parking_spaces                     0.009054   \n",
              "total_of_special_requests                       0.046759   \n",
              "total_nights_stay                               0.031480   \n",
              "total_people                                    0.029802   \n",
              "total_people_stay                               0.029802   \n",
              "\n",
              "                                arrival_date_day_of_month  \\\n",
              "is_canceled                                      0.005449   \n",
              "lead_time                                        0.009899   \n",
              "arrival_date_year                               -0.009872   \n",
              "arrival_date_week_number                         0.093273   \n",
              "arrival_date_day_of_month                        1.000000   \n",
              "stays_in_weekend_nights                         -0.017636   \n",
              "stays_in_week_nights                            -0.028375   \n",
              "adults                                          -0.001235   \n",
              "children                                         0.015826   \n",
              "babies                                          -0.000397   \n",
              "is_repeated_guest                               -0.004538   \n",
              "previous_cancellations                          -0.008553   \n",
              "previous_bookings_not_canceled                   0.000148   \n",
              "booking_changes                                  0.007006   \n",
              "agent                                            0.006084   \n",
              "company                                         -0.000598   \n",
              "days_in_waiting_list                             0.006088   \n",
              "adr                                              0.022682   \n",
              "required_car_parking_spaces                      0.009040   \n",
              "total_of_special_requests                       -0.001677   \n",
              "total_nights_stay                               -0.027707   \n",
              "total_people                                     0.008110   \n",
              "total_people_stay                                0.008110   \n",
              "\n",
              "                                stays_in_weekend_nights  stays_in_week_nights  \\\n",
              "is_canceled                                    0.060992              0.084159   \n",
              "lead_time                                      0.236316              0.312506   \n",
              "arrival_date_year                              0.005277              0.003765   \n",
              "arrival_date_week_number                       0.027466              0.028498   \n",
              "arrival_date_day_of_month                     -0.017636             -0.028375   \n",
              "stays_in_weekend_nights                        1.000000              0.550471   \n",
              "stays_in_week_nights                           0.550471              1.000000   \n",
              "adults                                         0.091450              0.099323   \n",
              "children                                       0.028911              0.030936   \n",
              "babies                                         0.013802              0.016201   \n",
              "is_repeated_guest                             -0.105494             -0.111432   \n",
              "previous_cancellations                        -0.020641             -0.018696   \n",
              "previous_bookings_not_canceled                -0.056891             -0.058714   \n",
              "booking_changes                                0.034624              0.066425   \n",
              "agent                                          0.159637              0.191991   \n",
              "company                                       -0.091615             -0.067063   \n",
              "days_in_waiting_list                          -0.031980              0.001855   \n",
              "adr                                            0.040417              0.055084   \n",
              "required_car_parking_spaces                   -0.042979             -0.044484   \n",
              "total_of_special_requests                      0.032816              0.038336   \n",
              "total_nights_stay                              0.783929              0.949850   \n",
              "total_people                                   0.090638              0.098348   \n",
              "total_people_stay                              0.090638              0.098348   \n",
              "\n",
              "                                  adults  children    babies  ...  \\\n",
              "is_canceled                     0.080271  0.067182 -0.020627  ...   \n",
              "lead_time                       0.139033  0.028395 -0.003705  ...   \n",
              "arrival_date_year               0.038744  0.041178 -0.023366  ...   \n",
              "arrival_date_week_number        0.025322  0.013542  0.014302  ...   \n",
              "arrival_date_day_of_month      -0.001235  0.015826 -0.000397  ...   \n",
              "stays_in_weekend_nights         0.091450  0.028911  0.013802  ...   \n",
              "stays_in_week_nights            0.099323  0.030936  0.016201  ...   \n",
              "adults                          1.000000  0.022171  0.016236  ...   \n",
              "children                        0.022171  1.000000  0.017370  ...   \n",
              "babies                          0.016236  0.017370  1.000000  ...   \n",
              "is_repeated_guest              -0.166448 -0.045181 -0.012819  ...   \n",
              "previous_cancellations         -0.042389 -0.019208 -0.005394  ...   \n",
              "previous_bookings_not_canceled -0.122105 -0.029446 -0.009199  ...   \n",
              "booking_changes                -0.036446  0.033409  0.083425  ...   \n",
              "agent                           0.027577  0.041831  0.028895  ...   \n",
              "company                        -0.174641 -0.051007 -0.011402  ...   \n",
              "days_in_waiting_list           -0.014925 -0.020370 -0.006825  ...   \n",
              "adr                             0.241996  0.326359  0.023206  ...   \n",
              "required_car_parking_spaces     0.007015  0.036267  0.030873  ...   \n",
              "total_of_special_requests       0.112509  0.044503  0.094857  ...   \n",
              "total_nights_stay               0.108117  0.033835  0.017218  ...   \n",
              "total_people                    0.801991  0.597392  0.166709  ...   \n",
              "total_people_stay               0.801991  0.597392  0.166709  ...   \n",
              "\n",
              "                                booking_changes     agent   company  \\\n",
              "is_canceled                           -0.093236 -0.001145 -0.075314   \n",
              "lead_time                              0.080822  0.080007 -0.078938   \n",
              "arrival_date_year                      0.008944 -0.002138  0.021289   \n",
              "arrival_date_week_number               0.012943  0.019724 -0.022852   \n",
              "arrival_date_day_of_month              0.007006  0.006084 -0.000598   \n",
              "stays_in_weekend_nights                0.034624  0.159637 -0.091615   \n",
              "stays_in_week_nights                   0.066425  0.191991 -0.067063   \n",
              "adults                                -0.036446  0.027577 -0.174641   \n",
              "children                               0.033409  0.041831 -0.051007   \n",
              "babies                                 0.083425  0.028895 -0.011402   \n",
              "is_repeated_guest                      0.007186 -0.064236  0.200716   \n",
              "previous_cancellations                -0.010267 -0.032979  0.028386   \n",
              "previous_bookings_not_canceled         0.005774 -0.058120  0.130482   \n",
              "booking_changes                        1.000000  0.025173  0.087949   \n",
              "agent                                  0.025173  1.000000 -0.128606   \n",
              "company                                0.087949 -0.128606  1.000000   \n",
              "days_in_waiting_list                   0.024143 -0.015819 -0.007552   \n",
              "adr                                    0.010144  0.007283 -0.138748   \n",
              "required_car_parking_spaces            0.050659  0.122076  0.039698   \n",
              "total_of_special_requests              0.018308  0.033148 -0.106405   \n",
              "total_nights_stay                      0.062366  0.202571 -0.084188   \n",
              "total_people                           0.002619  0.050013 -0.168512   \n",
              "total_people_stay                      0.002619  0.050013 -0.168512   \n",
              "\n",
              "                                days_in_waiting_list       adr  \\\n",
              "is_canceled                                 0.004710  0.127233   \n",
              "lead_time                                   0.131909  0.021948   \n",
              "arrival_date_year                          -0.027490  0.176594   \n",
              "arrival_date_week_number                    0.013159  0.099092   \n",
              "arrival_date_day_of_month                   0.006088  0.022682   \n",
              "stays_in_weekend_nights                    -0.031980  0.040417   \n",
              "stays_in_week_nights                        0.001855  0.055084   \n",
              "adults                                     -0.014925  0.241996   \n",
              "children                                   -0.020370  0.326359   \n",
              "babies                                     -0.006825  0.023206   \n",
              "is_repeated_guest                          -0.012647 -0.149432   \n",
              "previous_cancellations                      0.003733 -0.050359   \n",
              "previous_bookings_not_canceled             -0.006334 -0.086052   \n",
              "booking_changes                             0.024143  0.010144   \n",
              "agent                                      -0.015819  0.007283   \n",
              "company                                    -0.007552 -0.138748   \n",
              "days_in_waiting_list                        1.000000 -0.032522   \n",
              "adr                                        -0.032522  1.000000   \n",
              "required_car_parking_spaces                -0.015995  0.038733   \n",
              "total_of_special_requests                  -0.049438  0.137461   \n",
              "total_nights_stay                          -0.010599  0.056102   \n",
              "total_people                               -0.024488  0.382210   \n",
              "total_people_stay                          -0.024488  0.382210   \n",
              "\n",
              "                                required_car_parking_spaces  \\\n",
              "is_canceled                                       -0.184456   \n",
              "lead_time                                         -0.086736   \n",
              "arrival_date_year                                 -0.040041   \n",
              "arrival_date_week_number                           0.009054   \n",
              "arrival_date_day_of_month                          0.009040   \n",
              "stays_in_weekend_nights                           -0.042979   \n",
              "stays_in_week_nights                              -0.044484   \n",
              "adults                                             0.007015   \n",
              "children                                           0.036267   \n",
              "babies                                             0.030873   \n",
              "is_repeated_guest                                  0.073009   \n",
              "previous_cancellations                            -0.003480   \n",
              "previous_bookings_not_canceled                     0.040712   \n",
              "booking_changes                                    0.050659   \n",
              "agent                                              0.122076   \n",
              "company                                            0.039698   \n",
              "days_in_waiting_list                              -0.015995   \n",
              "adr                                                0.038733   \n",
              "required_car_parking_spaces                        1.000000   \n",
              "total_of_special_requests                          0.048479   \n",
              "total_nights_stay                                 -0.049179   \n",
              "total_people                                       0.030905   \n",
              "total_people_stay                                  0.030905   \n",
              "\n",
              "                                total_of_special_requests  total_nights_stay  \\\n",
              "is_canceled                                     -0.120794           0.085431   \n",
              "lead_time                                        0.034048           0.320914   \n",
              "arrival_date_year                                0.064210           0.004776   \n",
              "arrival_date_week_number                         0.046759           0.031480   \n",
              "arrival_date_day_of_month                       -0.001677          -0.027707   \n",
              "stays_in_weekend_nights                          0.032816           0.783929   \n",
              "stays_in_week_nights                             0.038336           0.949850   \n",
              "adults                                           0.112509           0.108117   \n",
              "children                                         0.044503           0.033835   \n",
              "babies                                           0.094857           0.017218   \n",
              "is_repeated_guest                               -0.001160          -0.122382   \n",
              "previous_cancellations                           0.001695          -0.021635   \n",
              "previous_bookings_not_canceled                   0.027044          -0.064973   \n",
              "booking_changes                                  0.018308           0.062366   \n",
              "agent                                            0.033148           0.202571   \n",
              "company                                         -0.106405          -0.084188   \n",
              "days_in_waiting_list                            -0.049438          -0.010599   \n",
              "adr                                              0.137461           0.056102   \n",
              "required_car_parking_spaces                      0.048479          -0.049179   \n",
              "total_of_special_requests                        1.000000           0.040800   \n",
              "total_nights_stay                                0.040800           1.000000   \n",
              "total_people                                     0.127876           0.107087   \n",
              "total_people_stay                                0.127876           0.107087   \n",
              "\n",
              "                                total_people  total_people_stay  \n",
              "is_canceled                         0.098987           0.098987  \n",
              "lead_time                           0.125262           0.125262  \n",
              "arrival_date_year                   0.050902           0.050902  \n",
              "arrival_date_week_number            0.029802           0.029802  \n",
              "arrival_date_day_of_month           0.008110           0.008110  \n",
              "stays_in_weekend_nights             0.090638           0.090638  \n",
              "stays_in_week_nights                0.098348           0.098348  \n",
              "adults                              0.801991           0.801991  \n",
              "children                            0.597392           0.597392  \n",
              "babies                              0.166709           0.166709  \n",
              "is_repeated_guest                  -0.158904          -0.158904  \n",
              "previous_cancellations             -0.045222          -0.045222  \n",
              "previous_bookings_not_canceled     -0.114406          -0.114406  \n",
              "booking_changes                     0.002619           0.002619  \n",
              "agent                               0.050013           0.050013  \n",
              "company                            -0.168512          -0.168512  \n",
              "days_in_waiting_list               -0.024488          -0.024488  \n",
              "adr                                 0.382210           0.382210  \n",
              "required_car_parking_spaces         0.030905           0.030905  \n",
              "total_of_special_requests           0.127876           0.127876  \n",
              "total_nights_stay                   0.107087           0.107087  \n",
              "total_people                        1.000000           1.000000  \n",
              "total_people_stay                   1.000000           1.000000  \n",
              "\n",
              "[23 rows x 23 columns]"
            ],
            "text/html": [
              "\n",
              "  <div id=\"df-b1ad48ac-ea25-4fd9-b6bc-e8dff45381a7\">\n",
              "    <div class=\"colab-df-container\">\n",
              "      <div>\n",
              "<style scoped>\n",
              "    .dataframe tbody tr th:only-of-type {\n",
              "        vertical-align: middle;\n",
              "    }\n",
              "\n",
              "    .dataframe tbody tr th {\n",
              "        vertical-align: top;\n",
              "    }\n",
              "\n",
              "    .dataframe thead th {\n",
              "        text-align: right;\n",
              "    }\n",
              "</style>\n",
              "<table border=\"1\" class=\"dataframe\">\n",
              "  <thead>\n",
              "    <tr style=\"text-align: right;\">\n",
              "      <th></th>\n",
              "      <th>is_canceled</th>\n",
              "      <th>lead_time</th>\n",
              "      <th>arrival_date_year</th>\n",
              "      <th>arrival_date_week_number</th>\n",
              "      <th>arrival_date_day_of_month</th>\n",
              "      <th>stays_in_weekend_nights</th>\n",
              "      <th>stays_in_week_nights</th>\n",
              "      <th>adults</th>\n",
              "      <th>children</th>\n",
              "      <th>babies</th>\n",
              "      <th>...</th>\n",
              "      <th>booking_changes</th>\n",
              "      <th>agent</th>\n",
              "      <th>company</th>\n",
              "      <th>days_in_waiting_list</th>\n",
              "      <th>adr</th>\n",
              "      <th>required_car_parking_spaces</th>\n",
              "      <th>total_of_special_requests</th>\n",
              "      <th>total_nights_stay</th>\n",
              "      <th>total_people</th>\n",
              "      <th>total_people_stay</th>\n",
              "    </tr>\n",
              "  </thead>\n",
              "  <tbody>\n",
              "    <tr>\n",
              "      <th>is_canceled</th>\n",
              "      <td>1.000000</td>\n",
              "      <td>0.184515</td>\n",
              "      <td>0.088020</td>\n",
              "      <td>0.001691</td>\n",
              "      <td>0.005449</td>\n",
              "      <td>0.060992</td>\n",
              "      <td>0.084159</td>\n",
              "      <td>0.080271</td>\n",
              "      <td>0.067182</td>\n",
              "      <td>-0.020627</td>\n",
              "      <td>...</td>\n",
              "      <td>-0.093236</td>\n",
              "      <td>-0.001145</td>\n",
              "      <td>-0.075314</td>\n",
              "      <td>0.004710</td>\n",
              "      <td>0.127233</td>\n",
              "      <td>-0.184456</td>\n",
              "      <td>-0.120794</td>\n",
              "      <td>0.085431</td>\n",
              "      <td>0.098987</td>\n",
              "      <td>0.098987</td>\n",
              "    </tr>\n",
              "    <tr>\n",
              "      <th>lead_time</th>\n",
              "      <td>0.184515</td>\n",
              "      <td>1.000000</td>\n",
              "      <td>0.139408</td>\n",
              "      <td>0.101295</td>\n",
              "      <td>0.009899</td>\n",
              "      <td>0.236316</td>\n",
              "      <td>0.312506</td>\n",
              "      <td>0.139033</td>\n",
              "      <td>0.028395</td>\n",
              "      <td>-0.003705</td>\n",
              "      <td>...</td>\n",
              "      <td>0.080822</td>\n",
              "      <td>0.080007</td>\n",
              "      <td>-0.078938</td>\n",
              "      <td>0.131909</td>\n",
              "      <td>0.021948</td>\n",
              "      <td>-0.086736</td>\n",
              "      <td>0.034048</td>\n",
              "      <td>0.320914</td>\n",
              "      <td>0.125262</td>\n",
              "      <td>0.125262</td>\n",
              "    </tr>\n",
              "    <tr>\n",
              "      <th>arrival_date_year</th>\n",
              "      <td>0.088020</td>\n",
              "      <td>0.139408</td>\n",
              "      <td>1.000000</td>\n",
              "      <td>-0.513895</td>\n",
              "      <td>-0.009872</td>\n",
              "      <td>0.005277</td>\n",
              "      <td>0.003765</td>\n",
              "      <td>0.038744</td>\n",
              "      <td>0.041178</td>\n",
              "      <td>-0.023366</td>\n",
              "      <td>...</td>\n",
              "      <td>0.008944</td>\n",
              "      <td>-0.002138</td>\n",
              "      <td>0.021289</td>\n",
              "      <td>-0.027490</td>\n",
              "      <td>0.176594</td>\n",
              "      <td>-0.040041</td>\n",
              "      <td>0.064210</td>\n",
              "      <td>0.004776</td>\n",
              "      <td>0.050902</td>\n",
              "      <td>0.050902</td>\n",
              "    </tr>\n",
              "    <tr>\n",
              "      <th>arrival_date_week_number</th>\n",
              "      <td>0.001691</td>\n",
              "      <td>0.101295</td>\n",
              "      <td>-0.513895</td>\n",
              "      <td>1.000000</td>\n",
              "      <td>0.093273</td>\n",
              "      <td>0.027466</td>\n",
              "      <td>0.028498</td>\n",
              "      <td>0.025322</td>\n",
              "      <td>0.013542</td>\n",
              "      <td>0.014302</td>\n",
              "      <td>...</td>\n",
              "      <td>0.012943</td>\n",
              "      <td>0.019724</td>\n",
              "      <td>-0.022852</td>\n",
              "      <td>0.013159</td>\n",
              "      <td>0.099092</td>\n",
              "      <td>0.009054</td>\n",
              "      <td>0.046759</td>\n",
              "      <td>0.031480</td>\n",
              "      <td>0.029802</td>\n",
              "      <td>0.029802</td>\n",
              "    </tr>\n",
              "    <tr>\n",
              "      <th>arrival_date_day_of_month</th>\n",
              "      <td>0.005449</td>\n",
              "      <td>0.009899</td>\n",
              "      <td>-0.009872</td>\n",
              "      <td>0.093273</td>\n",
              "      <td>1.000000</td>\n",
              "      <td>-0.017636</td>\n",
              "      <td>-0.028375</td>\n",
              "      <td>-0.001235</td>\n",
              "      <td>0.015826</td>\n",
              "      <td>-0.000397</td>\n",
              "      <td>...</td>\n",
              "      <td>0.007006</td>\n",
              "      <td>0.006084</td>\n",
              "      <td>-0.000598</td>\n",
              "      <td>0.006088</td>\n",
              "      <td>0.022682</td>\n",
              "      <td>0.009040</td>\n",
              "      <td>-0.001677</td>\n",
              "      <td>-0.027707</td>\n",
              "      <td>0.008110</td>\n",
              "      <td>0.008110</td>\n",
              "    </tr>\n",
              "    <tr>\n",
              "      <th>stays_in_weekend_nights</th>\n",
              "      <td>0.060992</td>\n",
              "      <td>0.236316</td>\n",
              "      <td>0.005277</td>\n",
              "      <td>0.027466</td>\n",
              "      <td>-0.017636</td>\n",
              "      <td>1.000000</td>\n",
              "      <td>0.550471</td>\n",
              "      <td>0.091450</td>\n",
              "      <td>0.028911</td>\n",
              "      <td>0.013802</td>\n",
              "      <td>...</td>\n",
              "      <td>0.034624</td>\n",
              "      <td>0.159637</td>\n",
              "      <td>-0.091615</td>\n",
              "      <td>-0.031980</td>\n",
              "      <td>0.040417</td>\n",
              "      <td>-0.042979</td>\n",
              "      <td>0.032816</td>\n",
              "      <td>0.783929</td>\n",
              "      <td>0.090638</td>\n",
              "      <td>0.090638</td>\n",
              "    </tr>\n",
              "    <tr>\n",
              "      <th>stays_in_week_nights</th>\n",
              "      <td>0.084159</td>\n",
              "      <td>0.312506</td>\n",
              "      <td>0.003765</td>\n",
              "      <td>0.028498</td>\n",
              "      <td>-0.028375</td>\n",
              "      <td>0.550471</td>\n",
              "      <td>1.000000</td>\n",
              "      <td>0.099323</td>\n",
              "      <td>0.030936</td>\n",
              "      <td>0.016201</td>\n",
              "      <td>...</td>\n",
              "      <td>0.066425</td>\n",
              "      <td>0.191991</td>\n",
              "      <td>-0.067063</td>\n",
              "      <td>0.001855</td>\n",
              "      <td>0.055084</td>\n",
              "      <td>-0.044484</td>\n",
              "      <td>0.038336</td>\n",
              "      <td>0.949850</td>\n",
              "      <td>0.098348</td>\n",
              "      <td>0.098348</td>\n",
              "    </tr>\n",
              "    <tr>\n",
              "      <th>adults</th>\n",
              "      <td>0.080271</td>\n",
              "      <td>0.139033</td>\n",
              "      <td>0.038744</td>\n",
              "      <td>0.025322</td>\n",
              "      <td>-0.001235</td>\n",
              "      <td>0.091450</td>\n",
              "      <td>0.099323</td>\n",
              "      <td>1.000000</td>\n",
              "      <td>0.022171</td>\n",
              "      <td>0.016236</td>\n",
              "      <td>...</td>\n",
              "      <td>-0.036446</td>\n",
              "      <td>0.027577</td>\n",
              "      <td>-0.174641</td>\n",
              "      <td>-0.014925</td>\n",
              "      <td>0.241996</td>\n",
              "      <td>0.007015</td>\n",
              "      <td>0.112509</td>\n",
              "      <td>0.108117</td>\n",
              "      <td>0.801991</td>\n",
              "      <td>0.801991</td>\n",
              "    </tr>\n",
              "    <tr>\n",
              "      <th>children</th>\n",
              "      <td>0.067182</td>\n",
              "      <td>0.028395</td>\n",
              "      <td>0.041178</td>\n",
              "      <td>0.013542</td>\n",
              "      <td>0.015826</td>\n",
              "      <td>0.028911</td>\n",
              "      <td>0.030936</td>\n",
              "      <td>0.022171</td>\n",
              "      <td>1.000000</td>\n",
              "      <td>0.017370</td>\n",
              "      <td>...</td>\n",
              "      <td>0.033409</td>\n",
              "      <td>0.041831</td>\n",
              "      <td>-0.051007</td>\n",
              "      <td>-0.020370</td>\n",
              "      <td>0.326359</td>\n",
              "      <td>0.036267</td>\n",
              "      <td>0.044503</td>\n",
              "      <td>0.033835</td>\n",
              "      <td>0.597392</td>\n",
              "      <td>0.597392</td>\n",
              "    </tr>\n",
              "    <tr>\n",
              "      <th>babies</th>\n",
              "      <td>-0.020627</td>\n",
              "      <td>-0.003705</td>\n",
              "      <td>-0.023366</td>\n",
              "      <td>0.014302</td>\n",
              "      <td>-0.000397</td>\n",
              "      <td>0.013802</td>\n",
              "      <td>0.016201</td>\n",
              "      <td>0.016236</td>\n",
              "      <td>0.017370</td>\n",
              "      <td>1.000000</td>\n",
              "      <td>...</td>\n",
              "      <td>0.083425</td>\n",
              "      <td>0.028895</td>\n",
              "      <td>-0.011402</td>\n",
              "      <td>-0.006825</td>\n",
              "      <td>0.023206</td>\n",
              "      <td>0.030873</td>\n",
              "      <td>0.094857</td>\n",
              "      <td>0.017218</td>\n",
              "      <td>0.166709</td>\n",
              "      <td>0.166709</td>\n",
              "    </tr>\n",
              "    <tr>\n",
              "      <th>is_repeated_guest</th>\n",
              "      <td>-0.088764</td>\n",
              "      <td>-0.145777</td>\n",
              "      <td>0.024678</td>\n",
              "      <td>-0.038221</td>\n",
              "      <td>-0.004538</td>\n",
              "      <td>-0.105494</td>\n",
              "      <td>-0.111432</td>\n",
              "      <td>-0.166448</td>\n",
              "      <td>-0.045181</td>\n",
              "      <td>-0.012819</td>\n",
              "      <td>...</td>\n",
              "      <td>0.007186</td>\n",
              "      <td>-0.064236</td>\n",
              "      <td>0.200716</td>\n",
              "      <td>-0.012647</td>\n",
              "      <td>-0.149432</td>\n",
              "      <td>0.073009</td>\n",
              "      <td>-0.001160</td>\n",
              "      <td>-0.122382</td>\n",
              "      <td>-0.158904</td>\n",
              "      <td>-0.158904</td>\n",
              "    </tr>\n",
              "    <tr>\n",
              "      <th>previous_cancellations</th>\n",
              "      <td>0.051501</td>\n",
              "      <td>0.005370</td>\n",
              "      <td>-0.054284</td>\n",
              "      <td>0.007038</td>\n",
              "      <td>-0.008553</td>\n",
              "      <td>-0.020641</td>\n",
              "      <td>-0.018696</td>\n",
              "      <td>-0.042389</td>\n",
              "      <td>-0.019208</td>\n",
              "      <td>-0.005394</td>\n",
              "      <td>...</td>\n",
              "      <td>-0.010267</td>\n",
              "      <td>-0.032979</td>\n",
              "      <td>0.028386</td>\n",
              "      <td>0.003733</td>\n",
              "      <td>-0.050359</td>\n",
              "      <td>-0.003480</td>\n",
              "      <td>0.001695</td>\n",
              "      <td>-0.021635</td>\n",
              "      <td>-0.045222</td>\n",
              "      <td>-0.045222</td>\n",
              "    </tr>\n",
              "    <tr>\n",
              "      <th>previous_bookings_not_canceled</th>\n",
              "      <td>-0.052178</td>\n",
              "      <td>-0.079021</td>\n",
              "      <td>0.027266</td>\n",
              "      <td>-0.020938</td>\n",
              "      <td>0.000148</td>\n",
              "      <td>-0.056891</td>\n",
              "      <td>-0.058714</td>\n",
              "      <td>-0.122105</td>\n",
              "      <td>-0.029446</td>\n",
              "      <td>-0.009199</td>\n",
              "      <td>...</td>\n",
              "      <td>0.005774</td>\n",
              "      <td>-0.058120</td>\n",
              "      <td>0.130482</td>\n",
              "      <td>-0.006334</td>\n",
              "      <td>-0.086052</td>\n",
              "      <td>0.040712</td>\n",
              "      <td>0.027044</td>\n",
              "      <td>-0.064973</td>\n",
              "      <td>-0.114406</td>\n",
              "      <td>-0.114406</td>\n",
              "    </tr>\n",
              "    <tr>\n",
              "      <th>booking_changes</th>\n",
              "      <td>-0.093236</td>\n",
              "      <td>0.080822</td>\n",
              "      <td>0.008944</td>\n",
              "      <td>0.012943</td>\n",
              "      <td>0.007006</td>\n",
              "      <td>0.034624</td>\n",
              "      <td>0.066425</td>\n",
              "      <td>-0.036446</td>\n",
              "      <td>0.033409</td>\n",
              "      <td>0.083425</td>\n",
              "      <td>...</td>\n",
              "      <td>1.000000</td>\n",
              "      <td>0.025173</td>\n",
              "      <td>0.087949</td>\n",
              "      <td>0.024143</td>\n",
              "      <td>0.010144</td>\n",
              "      <td>0.050659</td>\n",
              "      <td>0.018308</td>\n",
              "      <td>0.062366</td>\n",
              "      <td>0.002619</td>\n",
              "      <td>0.002619</td>\n",
              "    </tr>\n",
              "    <tr>\n",
              "      <th>agent</th>\n",
              "      <td>-0.001145</td>\n",
              "      <td>0.080007</td>\n",
              "      <td>-0.002138</td>\n",
              "      <td>0.019724</td>\n",
              "      <td>0.006084</td>\n",
              "      <td>0.159637</td>\n",
              "      <td>0.191991</td>\n",
              "      <td>0.027577</td>\n",
              "      <td>0.041831</td>\n",
              "      <td>0.028895</td>\n",
              "      <td>...</td>\n",
              "      <td>0.025173</td>\n",
              "      <td>1.000000</td>\n",
              "      <td>-0.128606</td>\n",
              "      <td>-0.015819</td>\n",
              "      <td>0.007283</td>\n",
              "      <td>0.122076</td>\n",
              "      <td>0.033148</td>\n",
              "      <td>0.202571</td>\n",
              "      <td>0.050013</td>\n",
              "      <td>0.050013</td>\n",
              "    </tr>\n",
              "    <tr>\n",
              "      <th>company</th>\n",
              "      <td>-0.075314</td>\n",
              "      <td>-0.078938</td>\n",
              "      <td>0.021289</td>\n",
              "      <td>-0.022852</td>\n",
              "      <td>-0.000598</td>\n",
              "      <td>-0.091615</td>\n",
              "      <td>-0.067063</td>\n",
              "      <td>-0.174641</td>\n",
              "      <td>-0.051007</td>\n",
              "      <td>-0.011402</td>\n",
              "      <td>...</td>\n",
              "      <td>0.087949</td>\n",
              "      <td>-0.128606</td>\n",
              "      <td>1.000000</td>\n",
              "      <td>-0.007552</td>\n",
              "      <td>-0.138748</td>\n",
              "      <td>0.039698</td>\n",
              "      <td>-0.106405</td>\n",
              "      <td>-0.084188</td>\n",
              "      <td>-0.168512</td>\n",
              "      <td>-0.168512</td>\n",
              "    </tr>\n",
              "    <tr>\n",
              "      <th>days_in_waiting_list</th>\n",
              "      <td>0.004710</td>\n",
              "      <td>0.131909</td>\n",
              "      <td>-0.027490</td>\n",
              "      <td>0.013159</td>\n",
              "      <td>0.006088</td>\n",
              "      <td>-0.031980</td>\n",
              "      <td>0.001855</td>\n",
              "      <td>-0.014925</td>\n",
              "      <td>-0.020370</td>\n",
              "      <td>-0.006825</td>\n",
              "      <td>...</td>\n",
              "      <td>0.024143</td>\n",
              "      <td>-0.015819</td>\n",
              "      <td>-0.007552</td>\n",
              "      <td>1.000000</td>\n",
              "      <td>-0.032522</td>\n",
              "      <td>-0.015995</td>\n",
              "      <td>-0.049438</td>\n",
              "      <td>-0.010599</td>\n",
              "      <td>-0.024488</td>\n",
              "      <td>-0.024488</td>\n",
              "    </tr>\n",
              "    <tr>\n",
              "      <th>adr</th>\n",
              "      <td>0.127233</td>\n",
              "      <td>0.021948</td>\n",
              "      <td>0.176594</td>\n",
              "      <td>0.099092</td>\n",
              "      <td>0.022682</td>\n",
              "      <td>0.040417</td>\n",
              "      <td>0.055084</td>\n",
              "      <td>0.241996</td>\n",
              "      <td>0.326359</td>\n",
              "      <td>0.023206</td>\n",
              "      <td>...</td>\n",
              "      <td>0.010144</td>\n",
              "      <td>0.007283</td>\n",
              "      <td>-0.138748</td>\n",
              "      <td>-0.032522</td>\n",
              "      <td>1.000000</td>\n",
              "      <td>0.038733</td>\n",
              "      <td>0.137461</td>\n",
              "      <td>0.056102</td>\n",
              "      <td>0.382210</td>\n",
              "      <td>0.382210</td>\n",
              "    </tr>\n",
              "    <tr>\n",
              "      <th>required_car_parking_spaces</th>\n",
              "      <td>-0.184456</td>\n",
              "      <td>-0.086736</td>\n",
              "      <td>-0.040041</td>\n",
              "      <td>0.009054</td>\n",
              "      <td>0.009040</td>\n",
              "      <td>-0.042979</td>\n",
              "      <td>-0.044484</td>\n",
              "      <td>0.007015</td>\n",
              "      <td>0.036267</td>\n",
              "      <td>0.030873</td>\n",
              "      <td>...</td>\n",
              "      <td>0.050659</td>\n",
              "      <td>0.122076</td>\n",
              "      <td>0.039698</td>\n",
              "      <td>-0.015995</td>\n",
              "      <td>0.038733</td>\n",
              "      <td>1.000000</td>\n",
              "      <td>0.048479</td>\n",
              "      <td>-0.049179</td>\n",
              "      <td>0.030905</td>\n",
              "      <td>0.030905</td>\n",
              "    </tr>\n",
              "    <tr>\n",
              "      <th>total_of_special_requests</th>\n",
              "      <td>-0.120794</td>\n",
              "      <td>0.034048</td>\n",
              "      <td>0.064210</td>\n",
              "      <td>0.046759</td>\n",
              "      <td>-0.001677</td>\n",
              "      <td>0.032816</td>\n",
              "      <td>0.038336</td>\n",
              "      <td>0.112509</td>\n",
              "      <td>0.044503</td>\n",
              "      <td>0.094857</td>\n",
              "      <td>...</td>\n",
              "      <td>0.018308</td>\n",
              "      <td>0.033148</td>\n",
              "      <td>-0.106405</td>\n",
              "      <td>-0.049438</td>\n",
              "      <td>0.137461</td>\n",
              "      <td>0.048479</td>\n",
              "      <td>1.000000</td>\n",
              "      <td>0.040800</td>\n",
              "      <td>0.127876</td>\n",
              "      <td>0.127876</td>\n",
              "    </tr>\n",
              "    <tr>\n",
              "      <th>total_nights_stay</th>\n",
              "      <td>0.085431</td>\n",
              "      <td>0.320914</td>\n",
              "      <td>0.004776</td>\n",
              "      <td>0.031480</td>\n",
              "      <td>-0.027707</td>\n",
              "      <td>0.783929</td>\n",
              "      <td>0.949850</td>\n",
              "      <td>0.108117</td>\n",
              "      <td>0.033835</td>\n",
              "      <td>0.017218</td>\n",
              "      <td>...</td>\n",
              "      <td>0.062366</td>\n",
              "      <td>0.202571</td>\n",
              "      <td>-0.084188</td>\n",
              "      <td>-0.010599</td>\n",
              "      <td>0.056102</td>\n",
              "      <td>-0.049179</td>\n",
              "      <td>0.040800</td>\n",
              "      <td>1.000000</td>\n",
              "      <td>0.107087</td>\n",
              "      <td>0.107087</td>\n",
              "    </tr>\n",
              "    <tr>\n",
              "      <th>total_people</th>\n",
              "      <td>0.098987</td>\n",
              "      <td>0.125262</td>\n",
              "      <td>0.050902</td>\n",
              "      <td>0.029802</td>\n",
              "      <td>0.008110</td>\n",
              "      <td>0.090638</td>\n",
              "      <td>0.098348</td>\n",
              "      <td>0.801991</td>\n",
              "      <td>0.597392</td>\n",
              "      <td>0.166709</td>\n",
              "      <td>...</td>\n",
              "      <td>0.002619</td>\n",
              "      <td>0.050013</td>\n",
              "      <td>-0.168512</td>\n",
              "      <td>-0.024488</td>\n",
              "      <td>0.382210</td>\n",
              "      <td>0.030905</td>\n",
              "      <td>0.127876</td>\n",
              "      <td>0.107087</td>\n",
              "      <td>1.000000</td>\n",
              "      <td>1.000000</td>\n",
              "    </tr>\n",
              "    <tr>\n",
              "      <th>total_people_stay</th>\n",
              "      <td>0.098987</td>\n",
              "      <td>0.125262</td>\n",
              "      <td>0.050902</td>\n",
              "      <td>0.029802</td>\n",
              "      <td>0.008110</td>\n",
              "      <td>0.090638</td>\n",
              "      <td>0.098348</td>\n",
              "      <td>0.801991</td>\n",
              "      <td>0.597392</td>\n",
              "      <td>0.166709</td>\n",
              "      <td>...</td>\n",
              "      <td>0.002619</td>\n",
              "      <td>0.050013</td>\n",
              "      <td>-0.168512</td>\n",
              "      <td>-0.024488</td>\n",
              "      <td>0.382210</td>\n",
              "      <td>0.030905</td>\n",
              "      <td>0.127876</td>\n",
              "      <td>0.107087</td>\n",
              "      <td>1.000000</td>\n",
              "      <td>1.000000</td>\n",
              "    </tr>\n",
              "  </tbody>\n",
              "</table>\n",
              "<p>23 rows × 23 columns</p>\n",
              "</div>\n",
              "      <button class=\"colab-df-convert\" onclick=\"convertToInteractive('df-b1ad48ac-ea25-4fd9-b6bc-e8dff45381a7')\"\n",
              "              title=\"Convert this dataframe to an interactive table.\"\n",
              "              style=\"display:none;\">\n",
              "        \n",
              "  <svg xmlns=\"http://www.w3.org/2000/svg\" height=\"24px\"viewBox=\"0 0 24 24\"\n",
              "       width=\"24px\">\n",
              "    <path d=\"M0 0h24v24H0V0z\" fill=\"none\"/>\n",
              "    <path d=\"M18.56 5.44l.94 2.06.94-2.06 2.06-.94-2.06-.94-.94-2.06-.94 2.06-2.06.94zm-11 1L8.5 8.5l.94-2.06 2.06-.94-2.06-.94L8.5 2.5l-.94 2.06-2.06.94zm10 10l.94 2.06.94-2.06 2.06-.94-2.06-.94-.94-2.06-.94 2.06-2.06.94z\"/><path d=\"M17.41 7.96l-1.37-1.37c-.4-.4-.92-.59-1.43-.59-.52 0-1.04.2-1.43.59L10.3 9.45l-7.72 7.72c-.78.78-.78 2.05 0 2.83L4 21.41c.39.39.9.59 1.41.59.51 0 1.02-.2 1.41-.59l7.78-7.78 2.81-2.81c.8-.78.8-2.07 0-2.86zM5.41 20L4 18.59l7.72-7.72 1.47 1.35L5.41 20z\"/>\n",
              "  </svg>\n",
              "      </button>\n",
              "      \n",
              "  <style>\n",
              "    .colab-df-container {\n",
              "      display:flex;\n",
              "      flex-wrap:wrap;\n",
              "      gap: 12px;\n",
              "    }\n",
              "\n",
              "    .colab-df-convert {\n",
              "      background-color: #E8F0FE;\n",
              "      border: none;\n",
              "      border-radius: 50%;\n",
              "      cursor: pointer;\n",
              "      display: none;\n",
              "      fill: #1967D2;\n",
              "      height: 32px;\n",
              "      padding: 0 0 0 0;\n",
              "      width: 32px;\n",
              "    }\n",
              "\n",
              "    .colab-df-convert:hover {\n",
              "      background-color: #E2EBFA;\n",
              "      box-shadow: 0px 1px 2px rgba(60, 64, 67, 0.3), 0px 1px 3px 1px rgba(60, 64, 67, 0.15);\n",
              "      fill: #174EA6;\n",
              "    }\n",
              "\n",
              "    [theme=dark] .colab-df-convert {\n",
              "      background-color: #3B4455;\n",
              "      fill: #D2E3FC;\n",
              "    }\n",
              "\n",
              "    [theme=dark] .colab-df-convert:hover {\n",
              "      background-color: #434B5C;\n",
              "      box-shadow: 0px 1px 3px 1px rgba(0, 0, 0, 0.15);\n",
              "      filter: drop-shadow(0px 1px 2px rgba(0, 0, 0, 0.3));\n",
              "      fill: #FFFFFF;\n",
              "    }\n",
              "  </style>\n",
              "\n",
              "      <script>\n",
              "        const buttonEl =\n",
              "          document.querySelector('#df-b1ad48ac-ea25-4fd9-b6bc-e8dff45381a7 button.colab-df-convert');\n",
              "        buttonEl.style.display =\n",
              "          google.colab.kernel.accessAllowed ? 'block' : 'none';\n",
              "\n",
              "        async function convertToInteractive(key) {\n",
              "          const element = document.querySelector('#df-b1ad48ac-ea25-4fd9-b6bc-e8dff45381a7');\n",
              "          const dataTable =\n",
              "            await google.colab.kernel.invokeFunction('convertToInteractive',\n",
              "                                                     [key], {});\n",
              "          if (!dataTable) return;\n",
              "\n",
              "          const docLinkHtml = 'Like what you see? Visit the ' +\n",
              "            '<a target=\"_blank\" href=https://colab.research.google.com/notebooks/data_table.ipynb>data table notebook</a>'\n",
              "            + ' to learn more about interactive tables.';\n",
              "          element.innerHTML = '';\n",
              "          dataTable['output_type'] = 'display_data';\n",
              "          await google.colab.output.renderOutput(dataTable, element);\n",
              "          const docLink = document.createElement('div');\n",
              "          docLink.innerHTML = docLinkHtml;\n",
              "          element.appendChild(docLink);\n",
              "        }\n",
              "      </script>\n",
              "    </div>\n",
              "  </div>\n",
              "  "
            ]
          },
          "metadata": {},
          "execution_count": 209
        }
      ]
    },
    {
      "cell_type": "code",
      "source": [
        "plt.figure(figsize=(20,10))\n",
        "sns.heatmap(corr_matrix,cmap='icefire_r',annot=True)"
      ],
      "metadata": {
        "colab": {
          "base_uri": "https://localhost:8080/",
          "height": 707
        },
        "id": "bLY_iAmOMGPn",
        "outputId": "2948bf33-f449-49ca-e62e-651a242fb61e"
      },
      "execution_count": null,
      "outputs": [
        {
          "output_type": "execute_result",
          "data": {
            "text/plain": [
              "<matplotlib.axes._subplots.AxesSubplot at 0x7f9ea080e510>"
            ]
          },
          "metadata": {},
          "execution_count": 214
        },
        {
          "output_type": "display_data",
          "data": {
            "text/plain": [
              "<Figure size 1440x720 with 2 Axes>"
            ],
            "image/png": "[encoded data removed]"
          },
          "metadata": {
            "needs_background": "light"
          }
        }
      ]
    },
    {
      "cell_type": "code",
      "source": [
        "new_df = df[['hotel','lead_time','previous_cancellations','previous_bookings_not_canceled','booking_changes','adr','total_people_stay','arrival_date_month']]\n",
        "corr_new_df=new_df.corr()\n",
        "corr_new_df\n"
      ],
      "metadata": {
        "colab": {
          "base_uri": "https://localhost:8080/",
          "height": 301
        },
        "id": "9-MEbAKR4Diz",
        "outputId": "e93b221f-03c9-40be-9a74-bd64f90e245a"
      },
      "execution_count": null,
      "outputs": [
        {
          "output_type": "execute_result",
          "data": {
            "text/plain": [
              "                                lead_time  previous_cancellations  \\\n",
              "lead_time                        1.000000                0.005370   \n",
              "previous_cancellations           0.005370                1.000000   \n",
              "previous_bookings_not_canceled  -0.079021                0.391766   \n",
              "booking_changes                  0.080822               -0.010267   \n",
              "adr                              0.021948               -0.050359   \n",
              "total_people_stay                0.125262               -0.045222   \n",
              "\n",
              "                                previous_bookings_not_canceled  \\\n",
              "lead_time                                            -0.079021   \n",
              "previous_cancellations                                0.391766   \n",
              "previous_bookings_not_canceled                        1.000000   \n",
              "booking_changes                                       0.005774   \n",
              "adr                                                  -0.086052   \n",
              "total_people_stay                                    -0.114406   \n",
              "\n",
              "                                booking_changes       adr  total_people_stay  \n",
              "lead_time                              0.080822  0.021948           0.125262  \n",
              "previous_cancellations                -0.010267 -0.050359          -0.045222  \n",
              "previous_bookings_not_canceled         0.005774 -0.086052          -0.114406  \n",
              "booking_changes                        1.000000  0.010144           0.002619  \n",
              "adr                                    0.010144  1.000000           0.382210  \n",
              "total_people_stay                      0.002619  0.382210           1.000000  "
            ],
            "text/html": [
              "\n",
              "  <div id=\"df-98766784-c86e-40a1-bd8c-f682c9bae76e\">\n",
              "    <div class=\"colab-df-container\">\n",
              "      <div>\n",
              "<style scoped>\n",
              "    .dataframe tbody tr th:only-of-type {\n",
              "        vertical-align: middle;\n",
              "    }\n",
              "\n",
              "    .dataframe tbody tr th {\n",
              "        vertical-align: top;\n",
              "    }\n",
              "\n",
              "    .dataframe thead th {\n",
              "        text-align: right;\n",
              "    }\n",
              "</style>\n",
              "<table border=\"1\" class=\"dataframe\">\n",
              "  <thead>\n",
              "    <tr style=\"text-align: right;\">\n",
              "      <th></th>\n",
              "      <th>lead_time</th>\n",
              "      <th>previous_cancellations</th>\n",
              "      <th>previous_bookings_not_canceled</th>\n",
              "      <th>booking_changes</th>\n",
              "      <th>adr</th>\n",
              "      <th>total_people_stay</th>\n",
              "    </tr>\n",
              "  </thead>\n",
              "  <tbody>\n",
              "    <tr>\n",
              "      <th>lead_time</th>\n",
              "      <td>1.000000</td>\n",
              "      <td>0.005370</td>\n",
              "      <td>-0.079021</td>\n",
              "      <td>0.080822</td>\n",
              "      <td>0.021948</td>\n",
              "      <td>0.125262</td>\n",
              "    </tr>\n",
              "    <tr>\n",
              "      <th>previous_cancellations</th>\n",
              "      <td>0.005370</td>\n",
              "      <td>1.000000</td>\n",
              "      <td>0.391766</td>\n",
              "      <td>-0.010267</td>\n",
              "      <td>-0.050359</td>\n",
              "      <td>-0.045222</td>\n",
              "    </tr>\n",
              "    <tr>\n",
              "      <th>previous_bookings_not_canceled</th>\n",
              "      <td>-0.079021</td>\n",
              "      <td>0.391766</td>\n",
              "      <td>1.000000</td>\n",
              "      <td>0.005774</td>\n",
              "      <td>-0.086052</td>\n",
              "      <td>-0.114406</td>\n",
              "    </tr>\n",
              "    <tr>\n",
              "      <th>booking_changes</th>\n",
              "      <td>0.080822</td>\n",
              "      <td>-0.010267</td>\n",
              "      <td>0.005774</td>\n",
              "      <td>1.000000</td>\n",
              "      <td>0.010144</td>\n",
              "      <td>0.002619</td>\n",
              "    </tr>\n",
              "    <tr>\n",
              "      <th>adr</th>\n",
              "      <td>0.021948</td>\n",
              "      <td>-0.050359</td>\n",
              "      <td>-0.086052</td>\n",
              "      <td>0.010144</td>\n",
              "      <td>1.000000</td>\n",
              "      <td>0.382210</td>\n",
              "    </tr>\n",
              "    <tr>\n",
              "      <th>total_people_stay</th>\n",
              "      <td>0.125262</td>\n",
              "      <td>-0.045222</td>\n",
              "      <td>-0.114406</td>\n",
              "      <td>0.002619</td>\n",
              "      <td>0.382210</td>\n",
              "      <td>1.000000</td>\n",
              "    </tr>\n",
              "  </tbody>\n",
              "</table>\n",
              "</div>\n",
              "      <button class=\"colab-df-convert\" onclick=\"convertToInteractive('df-98766784-c86e-40a1-bd8c-f682c9bae76e')\"\n",
              "              title=\"Convert this dataframe to an interactive table.\"\n",
              "              style=\"display:none;\">\n",
              "        \n",
              "  <svg xmlns=\"http://www.w3.org/2000/svg\" height=\"24px\"viewBox=\"0 0 24 24\"\n",
              "       width=\"24px\">\n",
              "    <path d=\"M0 0h24v24H0V0z\" fill=\"none\"/>\n",
              "    <path d=\"M18.56 5.44l.94 2.06.94-2.06 2.06-.94-2.06-.94-.94-2.06-.94 2.06-2.06.94zm-11 1L8.5 8.5l.94-2.06 2.06-.94-2.06-.94L8.5 2.5l-.94 2.06-2.06.94zm10 10l.94 2.06.94-2.06 2.06-.94-2.06-.94-.94-2.06-.94 2.06-2.06.94z\"/><path d=\"M17.41 7.96l-1.37-1.37c-.4-.4-.92-.59-1.43-.59-.52 0-1.04.2-1.43.59L10.3 9.45l-7.72 7.72c-.78.78-.78 2.05 0 2.83L4 21.41c.39.39.9.59 1.41.59.51 0 1.02-.2 1.41-.59l7.78-7.78 2.81-2.81c.8-.78.8-2.07 0-2.86zM5.41 20L4 18.59l7.72-7.72 1.47 1.35L5.41 20z\"/>\n",
              "  </svg>\n",
              "      </button>\n",
              "      \n",
              "  <style>\n",
              "    .colab-df-container {\n",
              "      display:flex;\n",
              "      flex-wrap:wrap;\n",
              "      gap: 12px;\n",
              "    }\n",
              "\n",
              "    .colab-df-convert {\n",
              "      background-color: #E8F0FE;\n",
              "      border: none;\n",
              "      border-radius: 50%;\n",
              "      cursor: pointer;\n",
              "      display: none;\n",
              "      fill: #1967D2;\n",
              "      height: 32px;\n",
              "      padding: 0 0 0 0;\n",
              "      width: 32px;\n",
              "    }\n",
              "\n",
              "    .colab-df-convert:hover {\n",
              "      background-color: #E2EBFA;\n",
              "      box-shadow: 0px 1px 2px rgba(60, 64, 67, 0.3), 0px 1px 3px 1px rgba(60, 64, 67, 0.15);\n",
              "      fill: #174EA6;\n",
              "    }\n",
              "\n",
              "    [theme=dark] .colab-df-convert {\n",
              "      background-color: #3B4455;\n",
              "      fill: #D2E3FC;\n",
              "    }\n",
              "\n",
              "    [theme=dark] .colab-df-convert:hover {\n",
              "      background-color: #434B5C;\n",
              "      box-shadow: 0px 1px 3px 1px rgba(0, 0, 0, 0.15);\n",
              "      filter: drop-shadow(0px 1px 2px rgba(0, 0, 0, 0.3));\n",
              "      fill: #FFFFFF;\n",
              "    }\n",
              "  </style>\n",
              "\n",
              "      <script>\n",
              "        const buttonEl =\n",
              "          document.querySelector('#df-98766784-c86e-40a1-bd8c-f682c9bae76e button.colab-df-convert');\n",
              "        buttonEl.style.display =\n",
              "          google.colab.kernel.accessAllowed ? 'block' : 'none';\n",
              "\n",
              "        async function convertToInteractive(key) {\n",
              "          const element = document.querySelector('#df-98766784-c86e-40a1-bd8c-f682c9bae76e');\n",
              "          const dataTable =\n",
              "            await google.colab.kernel.invokeFunction('convertToInteractive',\n",
              "                                                     [key], {});\n",
              "          if (!dataTable) return;\n",
              "\n",
              "          const docLinkHtml = 'Like what you see? Visit the ' +\n",
              "            '<a target=\"_blank\" href=https://colab.research.google.com/notebooks/data_table.ipynb>data table notebook</a>'\n",
              "            + ' to learn more about interactive tables.';\n",
              "          element.innerHTML = '';\n",
              "          dataTable['output_type'] = 'display_data';\n",
              "          await google.colab.output.renderOutput(dataTable, element);\n",
              "          const docLink = document.createElement('div');\n",
              "          docLink.innerHTML = docLinkHtml;\n",
              "          element.appendChild(docLink);\n",
              "        }\n",
              "      </script>\n",
              "    </div>\n",
              "  </div>\n",
              "  "
            ]
          },
          "metadata": {},
          "execution_count": 218
        }
      ]
    },
    {
      "cell_type": "code",
      "source": [
        "sns.heatmap(corr_new_df,cmap='icefire_r',annot=True)"
      ],
      "metadata": {
        "colab": {
          "base_uri": "https://localhost:8080/",
          "height": 441
        },
        "id": "I4RJ30CI4D9C",
        "outputId": "7d9aaff0-cea9-49a1-cfc2-08ba2b8b298e"
      },
      "execution_count": null,
      "outputs": [
        {
          "output_type": "execute_result",
          "data": {
            "text/plain": [
              "<matplotlib.axes._subplots.AxesSubplot at 0x7f9e9bb85490>"
            ]
          },
          "metadata": {},
          "execution_count": 219
        },
        {
          "output_type": "display_data",
          "data": {
            "text/plain": [
              "<Figure size 432x288 with 2 Axes>"
            ],
            "image/png": "[encoded data removed]"
          },
          "metadata": {
            "needs_background": "light"
          }
        }
      ]
    },
    {
      "cell_type": "markdown",
      "source": [
        "\n",
        "\n",
        "Total no of peoples stay in the hotel and lead time have slightly positive correlation. \n",
        "\n",
        " adr is slightly correlated with total_people_stay, which makes sense as more no. of people means more revenue, therefore more adr.\n",
        "\n",
        "\n",
        "\n",
        "\n",
        "\n",
        "\n"
      ],
      "metadata": {
        "id": "0Uhsx2zQ6iPr"
      }
    },
    {
      "cell_type": "markdown",
      "source": [
        "## Thank you"
      ],
      "metadata": {
        "id": "YeIVEBHx7FOn"
      }
    }
  ]
}